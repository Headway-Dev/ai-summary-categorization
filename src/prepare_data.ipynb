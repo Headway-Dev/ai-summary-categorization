{
 "cells": [
  {
   "cell_type": "code",
   "execution_count": 1,
   "metadata": {},
   "outputs": [],
   "source": [
    "import tqdm\n",
    "from pathlib import Path\n",
    "\n",
    "import firebase_admin\n",
    "from firebase_admin import credentials, firestore\n",
    "\n",
    "from core import Book"
   ]
  },
  {
   "cell_type": "code",
   "execution_count": 2,
   "metadata": {},
   "outputs": [],
   "source": [
    "p_firebase_credentials = Path('../secrets/books-us-firebase-adminsdk-pkr1j-d0ea62b8bf.json')\n",
    "assert p_firebase_credentials.is_file()\n",
    "\n",
    "cred = credentials.Certificate(p_firebase_credentials)\n",
    "firebase_admin.initialize_app(cred)\n",
    "db = firestore.client()"
   ]
  },
  {
   "cell_type": "code",
   "execution_count": null,
   "metadata": {},
   "outputs": [],
   "source": []
  },
  {
   "cell_type": "code",
   "execution_count": 3,
   "metadata": {},
   "outputs": [],
   "source": [
    "import re\n",
    "\n",
    "class Utils:\n",
    "    @staticmethod\n",
    "    def html_overview_to_simple_text(html_text: str) -> str:\n",
    "        # Replace <br> and paragraph tags with line breaks\n",
    "        text = re.sub(r\"</p>\\s*<br>\\s*<p>\", \"\\n\", html_text)\n",
    "\n",
    "        # Remove remaining <p> and </p> tags\n",
    "        text = re.sub(r\"</?p>\", \"\", text)\n",
    "\n",
    "        # Remove <b> tags but keep their content\n",
    "        text = re.sub(r\"</?b>\", \"\", text)\n",
    "\n",
    "        return text"
   ]
  },
  {
   "cell_type": "code",
   "execution_count": 4,
   "metadata": {},
   "outputs": [],
   "source": [
    "def list_books(limit: int | None = None) -> list[Book]:\n",
    "    res_books = []\n",
    "    documents_gen = db.collection('books').list_documents()\n",
    "    if limit is None or limit < 0:\n",
    "        gen = enumerate(documents_gen)\n",
    "    else:\n",
    "        gen = zip(range(limit), documents_gen)\n",
    "    for i, document_ref in tqdm.tqdm(gen):\n",
    "        try:\n",
    "            document = document_ref.get().to_dict()\n",
    "            LOCALIZATION_KEY = 'localization'\n",
    "            EN_LOCALIZATION_KEY = 'en'\n",
    "            en_localization = document[LOCALIZATION_KEY][EN_LOCALIZATION_KEY]\n",
    "\n",
    "            firebase_document_path = document_ref.path\n",
    "            enabled = document.get('enabled')\n",
    "            if not enabled:\n",
    "                print(f'Skipping disabled book at {i}')\n",
    "                continue\n",
    "            title = en_localization.get('title')\n",
    "            author = en_localization.get('author')\n",
    "            raw_overview = en_localization.get('overview')\n",
    "            overview = None if raw_overview is None else Utils.html_overview_to_simple_text(raw_overview)\n",
    "            author_overview = en_localization.get('authorOverview')\n",
    "            learning_items = en_localization.get('learningItems')\n",
    "\n",
    "            book = Book(\n",
    "                firebase_document_path=firebase_document_path,\n",
    "                title=title,\n",
    "                author=author,\n",
    "                overview=overview,\n",
    "                author_overview=author_overview,\n",
    "                learning_items=learning_items,\n",
    "            )\n",
    "            \n",
    "            res_books.append(book)\n",
    "        except:\n",
    "            print(f'Failed at {i}')\n",
    "    \n",
    "    return res_books"
   ]
  },
  {
   "cell_type": "code",
   "execution_count": 5,
   "metadata": {},
   "outputs": [
    {
     "name": "stderr",
     "output_type": "stream",
     "text": [
      "17it [00:06,  2.74it/s]"
     ]
    },
    {
     "name": "stdout",
     "output_type": "stream",
     "text": [
      "Failed at 16\n"
     ]
    },
    {
     "name": "stderr",
     "output_type": "stream",
     "text": [
      "29it [00:11,  2.68it/s]"
     ]
    },
    {
     "name": "stdout",
     "output_type": "stream",
     "text": [
      "Failed at 28\n"
     ]
    },
    {
     "name": "stderr",
     "output_type": "stream",
     "text": [
      "33it [00:13,  2.70it/s]"
     ]
    },
    {
     "name": "stdout",
     "output_type": "stream",
     "text": [
      "Failed at 32\n"
     ]
    },
    {
     "name": "stderr",
     "output_type": "stream",
     "text": [
      "57it [00:23,  2.73it/s]"
     ]
    },
    {
     "name": "stdout",
     "output_type": "stream",
     "text": [
      "Failed at 56\n"
     ]
    },
    {
     "name": "stderr",
     "output_type": "stream",
     "text": [
      "58it [00:23,  2.30it/s]"
     ]
    },
    {
     "name": "stdout",
     "output_type": "stream",
     "text": [
      "Skipping disabled book at 57\n"
     ]
    },
    {
     "name": "stderr",
     "output_type": "stream",
     "text": [
      "63it [00:25,  2.68it/s]"
     ]
    },
    {
     "name": "stdout",
     "output_type": "stream",
     "text": [
      "Failed at 61\n"
     ]
    },
    {
     "name": "stderr",
     "output_type": "stream",
     "text": [
      "82it [00:33,  2.33it/s]"
     ]
    },
    {
     "name": "stdout",
     "output_type": "stream",
     "text": [
      "Failed at 81\n"
     ]
    },
    {
     "name": "stderr",
     "output_type": "stream",
     "text": [
      "89it [00:36,  2.73it/s]"
     ]
    },
    {
     "name": "stdout",
     "output_type": "stream",
     "text": [
      "Failed at 88\n"
     ]
    },
    {
     "name": "stderr",
     "output_type": "stream",
     "text": [
      "90it [00:36,  2.37it/s]"
     ]
    },
    {
     "name": "stdout",
     "output_type": "stream",
     "text": [
      "Failed at 89\n"
     ]
    },
    {
     "name": "stderr",
     "output_type": "stream",
     "text": [
      "96it [00:39,  2.31it/s]"
     ]
    },
    {
     "name": "stdout",
     "output_type": "stream",
     "text": [
      "Failed at 95\n"
     ]
    },
    {
     "name": "stderr",
     "output_type": "stream",
     "text": [
      "134it [00:47,  5.70it/s]"
     ]
    },
    {
     "name": "stdout",
     "output_type": "stream",
     "text": [
      "Failed at 132\n"
     ]
    },
    {
     "name": "stderr",
     "output_type": "stream",
     "text": [
      "138it [00:48,  5.95it/s]"
     ]
    },
    {
     "name": "stdout",
     "output_type": "stream",
     "text": [
      "Failed at 136\n",
      "Failed at 137\n"
     ]
    },
    {
     "name": "stderr",
     "output_type": "stream",
     "text": [
      "149it [00:51,  4.38it/s]"
     ]
    },
    {
     "name": "stdout",
     "output_type": "stream",
     "text": [
      "Failed at 148\n"
     ]
    },
    {
     "name": "stderr",
     "output_type": "stream",
     "text": [
      "169it [00:55,  4.66it/s]"
     ]
    },
    {
     "name": "stdout",
     "output_type": "stream",
     "text": [
      "Failed at 167\n"
     ]
    },
    {
     "name": "stderr",
     "output_type": "stream",
     "text": [
      "191it [01:00,  5.03it/s]"
     ]
    },
    {
     "name": "stdout",
     "output_type": "stream",
     "text": [
      "Failed at 189\n"
     ]
    },
    {
     "name": "stderr",
     "output_type": "stream",
     "text": [
      "198it [01:01,  5.09it/s]"
     ]
    },
    {
     "name": "stdout",
     "output_type": "stream",
     "text": [
      "Failed at 196\n"
     ]
    },
    {
     "name": "stderr",
     "output_type": "stream",
     "text": [
      "203it [01:03,  3.49it/s]"
     ]
    },
    {
     "name": "stdout",
     "output_type": "stream",
     "text": [
      "Failed at 201\n"
     ]
    },
    {
     "name": "stderr",
     "output_type": "stream",
     "text": [
      "227it [01:08,  4.48it/s]"
     ]
    },
    {
     "name": "stdout",
     "output_type": "stream",
     "text": [
      "Failed at 226\n"
     ]
    },
    {
     "name": "stderr",
     "output_type": "stream",
     "text": [
      "238it [01:11,  5.41it/s]"
     ]
    },
    {
     "name": "stdout",
     "output_type": "stream",
     "text": [
      "Failed at 237\n"
     ]
    },
    {
     "name": "stderr",
     "output_type": "stream",
     "text": [
      "246it [01:13,  5.00it/s]"
     ]
    },
    {
     "name": "stdout",
     "output_type": "stream",
     "text": [
      "Skipping disabled book at 244\n"
     ]
    },
    {
     "name": "stderr",
     "output_type": "stream",
     "text": [
      "252it [01:14,  4.99it/s]"
     ]
    },
    {
     "name": "stdout",
     "output_type": "stream",
     "text": [
      "Failed at 251\n"
     ]
    },
    {
     "name": "stderr",
     "output_type": "stream",
     "text": [
      "263it [01:16,  5.50it/s]"
     ]
    },
    {
     "name": "stdout",
     "output_type": "stream",
     "text": [
      "Skipping disabled book at 261\n"
     ]
    },
    {
     "name": "stderr",
     "output_type": "stream",
     "text": [
      "272it [01:18,  4.93it/s]"
     ]
    },
    {
     "name": "stdout",
     "output_type": "stream",
     "text": [
      "Skipping disabled book at 270\n"
     ]
    },
    {
     "name": "stderr",
     "output_type": "stream",
     "text": [
      "281it [01:20,  4.42it/s]"
     ]
    },
    {
     "name": "stdout",
     "output_type": "stream",
     "text": [
      "Failed at 280\n"
     ]
    },
    {
     "name": "stderr",
     "output_type": "stream",
     "text": [
      "371it [01:41,  4.39it/s]"
     ]
    },
    {
     "name": "stdout",
     "output_type": "stream",
     "text": [
      "Failed at 369\n"
     ]
    },
    {
     "name": "stderr",
     "output_type": "stream",
     "text": [
      "389it [01:45,  4.96it/s]"
     ]
    },
    {
     "name": "stdout",
     "output_type": "stream",
     "text": [
      "Failed at 387\n"
     ]
    },
    {
     "name": "stderr",
     "output_type": "stream",
     "text": [
      "413it [01:51,  5.05it/s]"
     ]
    },
    {
     "name": "stdout",
     "output_type": "stream",
     "text": [
      "Failed at 412\n"
     ]
    },
    {
     "name": "stderr",
     "output_type": "stream",
     "text": [
      "419it [01:52,  5.66it/s]"
     ]
    },
    {
     "name": "stdout",
     "output_type": "stream",
     "text": [
      "Failed at 417\n"
     ]
    },
    {
     "name": "stderr",
     "output_type": "stream",
     "text": [
      "422it [01:53,  5.41it/s]"
     ]
    },
    {
     "name": "stdout",
     "output_type": "stream",
     "text": [
      "Failed at 421\n"
     ]
    },
    {
     "name": "stderr",
     "output_type": "stream",
     "text": [
      "427it [01:54,  5.18it/s]"
     ]
    },
    {
     "name": "stdout",
     "output_type": "stream",
     "text": [
      "Skipping disabled book at 425\n"
     ]
    },
    {
     "name": "stderr",
     "output_type": "stream",
     "text": [
      "449it [01:59,  4.70it/s]"
     ]
    },
    {
     "name": "stdout",
     "output_type": "stream",
     "text": [
      "Failed at 447\n",
      "Failed at 448\n"
     ]
    },
    {
     "name": "stderr",
     "output_type": "stream",
     "text": [
      "451it [01:59,  4.66it/s]"
     ]
    },
    {
     "name": "stdout",
     "output_type": "stream",
     "text": [
      "Failed at 450\n"
     ]
    },
    {
     "name": "stderr",
     "output_type": "stream",
     "text": [
      "469it [02:04,  4.97it/s]"
     ]
    },
    {
     "name": "stdout",
     "output_type": "stream",
     "text": [
      "Failed at 467\n"
     ]
    },
    {
     "name": "stderr",
     "output_type": "stream",
     "text": [
      "474it [02:05,  4.70it/s]"
     ]
    },
    {
     "name": "stdout",
     "output_type": "stream",
     "text": [
      "Failed at 472\n"
     ]
    },
    {
     "name": "stderr",
     "output_type": "stream",
     "text": [
      "482it [02:07,  4.11it/s]"
     ]
    },
    {
     "name": "stdout",
     "output_type": "stream",
     "text": [
      "Skipping disabled book at 481\n"
     ]
    },
    {
     "name": "stderr",
     "output_type": "stream",
     "text": [
      "492it [02:09,  4.78it/s]"
     ]
    },
    {
     "name": "stdout",
     "output_type": "stream",
     "text": [
      "Failed at 490\n"
     ]
    },
    {
     "name": "stderr",
     "output_type": "stream",
     "text": [
      "499it [02:10,  5.65it/s]"
     ]
    },
    {
     "name": "stdout",
     "output_type": "stream",
     "text": [
      "Failed at 498\n"
     ]
    },
    {
     "name": "stderr",
     "output_type": "stream",
     "text": [
      "531it [02:19,  4.64it/s]"
     ]
    },
    {
     "name": "stdout",
     "output_type": "stream",
     "text": [
      "Failed at 529\n"
     ]
    },
    {
     "name": "stderr",
     "output_type": "stream",
     "text": [
      "534it [02:19,  5.36it/s]"
     ]
    },
    {
     "name": "stdout",
     "output_type": "stream",
     "text": [
      "Failed at 532\n",
      "Failed at 533\n"
     ]
    },
    {
     "name": "stderr",
     "output_type": "stream",
     "text": [
      "545it [02:22,  4.42it/s]"
     ]
    },
    {
     "name": "stdout",
     "output_type": "stream",
     "text": [
      "Failed at 544\n"
     ]
    },
    {
     "name": "stderr",
     "output_type": "stream",
     "text": [
      "588it [02:32,  4.79it/s]"
     ]
    },
    {
     "name": "stdout",
     "output_type": "stream",
     "text": [
      "Failed at 587\n"
     ]
    },
    {
     "name": "stderr",
     "output_type": "stream",
     "text": [
      "592it [02:33,  4.35it/s]"
     ]
    },
    {
     "name": "stdout",
     "output_type": "stream",
     "text": [
      "Failed at 591\n"
     ]
    },
    {
     "name": "stderr",
     "output_type": "stream",
     "text": [
      "617it [02:39,  5.22it/s]"
     ]
    },
    {
     "name": "stdout",
     "output_type": "stream",
     "text": [
      "Skipping disabled book at 615\n"
     ]
    },
    {
     "name": "stderr",
     "output_type": "stream",
     "text": [
      "635it [02:43,  5.44it/s]"
     ]
    },
    {
     "name": "stdout",
     "output_type": "stream",
     "text": [
      "Failed at 634\n"
     ]
    },
    {
     "name": "stderr",
     "output_type": "stream",
     "text": [
      "657it [02:48,  5.18it/s]"
     ]
    },
    {
     "name": "stdout",
     "output_type": "stream",
     "text": [
      "Failed at 655\n"
     ]
    },
    {
     "name": "stderr",
     "output_type": "stream",
     "text": [
      "665it [02:50,  4.99it/s]"
     ]
    },
    {
     "name": "stdout",
     "output_type": "stream",
     "text": [
      "Failed at 663\n"
     ]
    },
    {
     "name": "stderr",
     "output_type": "stream",
     "text": [
      "729it [03:05,  5.01it/s]"
     ]
    },
    {
     "name": "stdout",
     "output_type": "stream",
     "text": [
      "Skipping disabled book at 727\n"
     ]
    },
    {
     "name": "stderr",
     "output_type": "stream",
     "text": [
      "731it [03:05,  5.15it/s]"
     ]
    },
    {
     "name": "stdout",
     "output_type": "stream",
     "text": [
      "Failed at 729\n",
      "Failed at 730\n"
     ]
    },
    {
     "name": "stderr",
     "output_type": "stream",
     "text": [
      "748it [03:09,  4.39it/s]"
     ]
    },
    {
     "name": "stdout",
     "output_type": "stream",
     "text": [
      "Failed at 747\n"
     ]
    },
    {
     "name": "stderr",
     "output_type": "stream",
     "text": [
      "765it [03:13,  5.04it/s]"
     ]
    },
    {
     "name": "stdout",
     "output_type": "stream",
     "text": [
      "Failed at 764\n"
     ]
    },
    {
     "name": "stderr",
     "output_type": "stream",
     "text": [
      "776it [03:15,  4.88it/s]"
     ]
    },
    {
     "name": "stdout",
     "output_type": "stream",
     "text": [
      "Failed at 774\n"
     ]
    },
    {
     "name": "stderr",
     "output_type": "stream",
     "text": [
      "786it [03:17,  5.23it/s]"
     ]
    },
    {
     "name": "stdout",
     "output_type": "stream",
     "text": [
      "Failed at 785\n"
     ]
    },
    {
     "name": "stderr",
     "output_type": "stream",
     "text": [
      "793it [03:19,  4.77it/s]"
     ]
    },
    {
     "name": "stdout",
     "output_type": "stream",
     "text": [
      "Failed at 791\n"
     ]
    },
    {
     "name": "stderr",
     "output_type": "stream",
     "text": [
      "831it [03:28,  5.66it/s]"
     ]
    },
    {
     "name": "stdout",
     "output_type": "stream",
     "text": [
      "Failed at 829\n",
      "Failed at 830\n"
     ]
    },
    {
     "name": "stderr",
     "output_type": "stream",
     "text": [
      "858it [03:35,  4.52it/s]"
     ]
    },
    {
     "name": "stdout",
     "output_type": "stream",
     "text": [
      "Skipping disabled book at 857\n"
     ]
    },
    {
     "name": "stderr",
     "output_type": "stream",
     "text": [
      "889it [03:42,  5.02it/s]"
     ]
    },
    {
     "name": "stdout",
     "output_type": "stream",
     "text": [
      "Skipping disabled book at 887\n"
     ]
    },
    {
     "name": "stderr",
     "output_type": "stream",
     "text": [
      "1004it [04:12,  3.87it/s]"
     ]
    },
    {
     "name": "stdout",
     "output_type": "stream",
     "text": [
      "Skipping disabled book at 1003\n"
     ]
    },
    {
     "name": "stderr",
     "output_type": "stream",
     "text": [
      "1016it [04:15,  4.65it/s]"
     ]
    },
    {
     "name": "stdout",
     "output_type": "stream",
     "text": [
      "Failed at 1015\n"
     ]
    },
    {
     "name": "stderr",
     "output_type": "stream",
     "text": [
      "1048it [04:22,  4.99it/s]"
     ]
    },
    {
     "name": "stdout",
     "output_type": "stream",
     "text": [
      "Failed at 1047\n"
     ]
    },
    {
     "name": "stderr",
     "output_type": "stream",
     "text": [
      "1072it [04:28,  4.66it/s]"
     ]
    },
    {
     "name": "stdout",
     "output_type": "stream",
     "text": [
      "Failed at 1071\n"
     ]
    },
    {
     "name": "stderr",
     "output_type": "stream",
     "text": [
      "1078it [04:29,  4.45it/s]"
     ]
    },
    {
     "name": "stdout",
     "output_type": "stream",
     "text": [
      "Failed at 1076\n"
     ]
    },
    {
     "name": "stderr",
     "output_type": "stream",
     "text": [
      "1108it [04:37,  4.23it/s]"
     ]
    },
    {
     "name": "stdout",
     "output_type": "stream",
     "text": [
      "Failed at 1107\n"
     ]
    },
    {
     "name": "stderr",
     "output_type": "stream",
     "text": [
      "1110it [04:37,  4.12it/s]"
     ]
    },
    {
     "name": "stdout",
     "output_type": "stream",
     "text": [
      "Skipping disabled book at 1109\n"
     ]
    },
    {
     "name": "stderr",
     "output_type": "stream",
     "text": [
      "1127it [04:41,  4.12it/s]"
     ]
    },
    {
     "name": "stdout",
     "output_type": "stream",
     "text": [
      "Failed at 1126\n"
     ]
    },
    {
     "name": "stderr",
     "output_type": "stream",
     "text": [
      "1136it [04:44,  4.59it/s]"
     ]
    },
    {
     "name": "stdout",
     "output_type": "stream",
     "text": [
      "Failed at 1134\n"
     ]
    },
    {
     "name": "stderr",
     "output_type": "stream",
     "text": [
      "1154it [04:48,  4.56it/s]"
     ]
    },
    {
     "name": "stdout",
     "output_type": "stream",
     "text": [
      "Failed at 1152\n"
     ]
    },
    {
     "name": "stderr",
     "output_type": "stream",
     "text": [
      "1184it [04:55,  4.35it/s]"
     ]
    },
    {
     "name": "stdout",
     "output_type": "stream",
     "text": [
      "Failed at 1183\n"
     ]
    },
    {
     "name": "stderr",
     "output_type": "stream",
     "text": [
      "1197it [04:58,  4.59it/s]"
     ]
    },
    {
     "name": "stdout",
     "output_type": "stream",
     "text": [
      "Failed at 1195\n"
     ]
    },
    {
     "name": "stderr",
     "output_type": "stream",
     "text": [
      "1208it [05:01,  4.49it/s]"
     ]
    },
    {
     "name": "stdout",
     "output_type": "stream",
     "text": [
      "Failed at 1207\n"
     ]
    },
    {
     "name": "stderr",
     "output_type": "stream",
     "text": [
      "1214it [05:02,  5.06it/s]"
     ]
    },
    {
     "name": "stdout",
     "output_type": "stream",
     "text": [
      "Failed at 1212\n"
     ]
    },
    {
     "name": "stderr",
     "output_type": "stream",
     "text": [
      "1223it [05:04,  4.89it/s]"
     ]
    },
    {
     "name": "stdout",
     "output_type": "stream",
     "text": [
      "Failed at 1221\n"
     ]
    },
    {
     "name": "stderr",
     "output_type": "stream",
     "text": [
      "1237it [05:07,  4.53it/s]"
     ]
    },
    {
     "name": "stdout",
     "output_type": "stream",
     "text": [
      "Failed at 1236\n"
     ]
    },
    {
     "name": "stderr",
     "output_type": "stream",
     "text": [
      "1261it [05:13,  3.97it/s]"
     ]
    },
    {
     "name": "stdout",
     "output_type": "stream",
     "text": [
      "Failed at 1260\n"
     ]
    },
    {
     "name": "stderr",
     "output_type": "stream",
     "text": [
      "1307it [05:24,  3.93it/s]"
     ]
    },
    {
     "name": "stdout",
     "output_type": "stream",
     "text": [
      "Skipping disabled book at 1306\n"
     ]
    },
    {
     "name": "stderr",
     "output_type": "stream",
     "text": [
      "1329it [05:29,  5.14it/s]"
     ]
    },
    {
     "name": "stdout",
     "output_type": "stream",
     "text": [
      "Failed at 1328\n"
     ]
    },
    {
     "name": "stderr",
     "output_type": "stream",
     "text": [
      "1330it [05:29,  4.71it/s]"
     ]
    },
    {
     "name": "stdout",
     "output_type": "stream",
     "text": [
      "Skipping disabled book at 1329\n"
     ]
    },
    {
     "name": "stderr",
     "output_type": "stream",
     "text": [
      "1342it [05:31,  5.65it/s]"
     ]
    },
    {
     "name": "stdout",
     "output_type": "stream",
     "text": [
      "Failed at 1341\n"
     ]
    },
    {
     "name": "stderr",
     "output_type": "stream",
     "text": [
      "1350it [05:34,  4.22it/s]"
     ]
    },
    {
     "name": "stdout",
     "output_type": "stream",
     "text": [
      "Failed at 1349\n"
     ]
    },
    {
     "name": "stderr",
     "output_type": "stream",
     "text": [
      "1372it [05:38,  5.80it/s]"
     ]
    },
    {
     "name": "stdout",
     "output_type": "stream",
     "text": [
      "Failed at 1370\n"
     ]
    },
    {
     "name": "stderr",
     "output_type": "stream",
     "text": [
      "1392it [05:43,  4.47it/s]"
     ]
    },
    {
     "name": "stdout",
     "output_type": "stream",
     "text": [
      "Failed at 1391\n"
     ]
    },
    {
     "name": "stderr",
     "output_type": "stream",
     "text": [
      "1400it [05:45,  5.06it/s]"
     ]
    },
    {
     "name": "stdout",
     "output_type": "stream",
     "text": [
      "Failed at 1399\n"
     ]
    },
    {
     "name": "stderr",
     "output_type": "stream",
     "text": [
      "1406it [05:47,  3.92it/s]"
     ]
    },
    {
     "name": "stdout",
     "output_type": "stream",
     "text": [
      "Failed at 1405\n"
     ]
    },
    {
     "name": "stderr",
     "output_type": "stream",
     "text": [
      "1417it [05:49,  4.67it/s]"
     ]
    },
    {
     "name": "stdout",
     "output_type": "stream",
     "text": [
      "Failed at 1415\n"
     ]
    },
    {
     "name": "stderr",
     "output_type": "stream",
     "text": [
      "1434it [05:53,  5.05it/s]"
     ]
    },
    {
     "name": "stdout",
     "output_type": "stream",
     "text": [
      "Failed at 1433\n"
     ]
    },
    {
     "name": "stderr",
     "output_type": "stream",
     "text": [
      "1449it [05:57,  4.54it/s]"
     ]
    },
    {
     "name": "stdout",
     "output_type": "stream",
     "text": [
      "Failed at 1447\n",
      "Skipping disabled book at 1448\n"
     ]
    },
    {
     "name": "stderr",
     "output_type": "stream",
     "text": [
      "1452it [05:58,  4.29it/s]"
     ]
    },
    {
     "name": "stdout",
     "output_type": "stream",
     "text": [
      "Skipping disabled book at 1451\n"
     ]
    },
    {
     "name": "stderr",
     "output_type": "stream",
     "text": [
      "1482it [06:04,  4.58it/s]"
     ]
    },
    {
     "name": "stdout",
     "output_type": "stream",
     "text": [
      "Skipping disabled book at 1481\n"
     ]
    },
    {
     "name": "stderr",
     "output_type": "stream",
     "text": [
      "1488it [06:06,  5.23it/s]"
     ]
    },
    {
     "name": "stdout",
     "output_type": "stream",
     "text": [
      "Failed at 1487\n"
     ]
    },
    {
     "name": "stderr",
     "output_type": "stream",
     "text": [
      "1512it [06:12,  4.52it/s]"
     ]
    },
    {
     "name": "stdout",
     "output_type": "stream",
     "text": [
      "Failed at 1511\n"
     ]
    },
    {
     "name": "stderr",
     "output_type": "stream",
     "text": [
      "1628it [06:40,  4.54it/s]"
     ]
    },
    {
     "name": "stdout",
     "output_type": "stream",
     "text": [
      "Skipping disabled book at 1626\n",
      "Failed at 1627\n"
     ]
    },
    {
     "name": "stderr",
     "output_type": "stream",
     "text": [
      "1633it [06:41,  4.63it/s]"
     ]
    },
    {
     "name": "stdout",
     "output_type": "stream",
     "text": [
      "Skipping disabled book at 1632\n"
     ]
    },
    {
     "name": "stderr",
     "output_type": "stream",
     "text": [
      "1713it [07:01,  4.85it/s]"
     ]
    },
    {
     "name": "stdout",
     "output_type": "stream",
     "text": [
      "Failed at 1711\n"
     ]
    },
    {
     "name": "stderr",
     "output_type": "stream",
     "text": [
      "1776it [07:15,  5.13it/s]"
     ]
    },
    {
     "name": "stdout",
     "output_type": "stream",
     "text": [
      "Skipping disabled book at 1774\n",
      "Failed at 1775\n"
     ]
    },
    {
     "name": "stderr",
     "output_type": "stream",
     "text": [
      "1822it [07:27,  4.30it/s]"
     ]
    },
    {
     "name": "stdout",
     "output_type": "stream",
     "text": [
      "Failed at 1821\n"
     ]
    },
    {
     "name": "stderr",
     "output_type": "stream",
     "text": [
      "1867it [07:37,  4.19it/s]"
     ]
    },
    {
     "name": "stdout",
     "output_type": "stream",
     "text": [
      "Failed at 1866\n"
     ]
    },
    {
     "name": "stderr",
     "output_type": "stream",
     "text": [
      "1871it [07:38,  4.51it/s]"
     ]
    },
    {
     "name": "stdout",
     "output_type": "stream",
     "text": [
      "Failed at 1870\n"
     ]
    },
    {
     "name": "stderr",
     "output_type": "stream",
     "text": [
      "1884it [07:42,  4.23it/s]"
     ]
    },
    {
     "name": "stdout",
     "output_type": "stream",
     "text": [
      "Failed at 1883\n"
     ]
    },
    {
     "name": "stderr",
     "output_type": "stream",
     "text": [
      "1907it [07:47,  4.08it/s]\n"
     ]
    }
   ],
   "source": [
    "books = list_books()"
   ]
  },
  {
   "cell_type": "code",
   "execution_count": 6,
   "metadata": {},
   "outputs": [
    {
     "name": "stdout",
     "output_type": "stream",
     "text": [
      "Total books: 1802\n"
     ]
    }
   ],
   "source": [
    "print('Total books:', len(books))"
   ]
  },
  {
   "cell_type": "code",
   "execution_count": 7,
   "metadata": {},
   "outputs": [],
   "source": [
    "def set_book_categories(books: list[Book]) -> None:\n",
    "    LOCALIZATION_KEY = 'localization'\n",
    "    EN_LOCALIZATION_KEY = 'en'\n",
    "    BOOK_IDS_KEY = 'booksIds'\n",
    "\n",
    "    id2book = {\n",
    "        b.book_id: b\n",
    "        for b in books\n",
    "    }\n",
    "    # Clear existing categories\n",
    "    for b in books:\n",
    "        b.categories.clear()\n",
    "\n",
    "    # Read categoreis\n",
    "    categories_document_ref = db.collection('common').document('categories')\n",
    "    categories_document = categories_document_ref.get().to_dict()\n",
    "    for _, category_data in categories_document['categories'].items():\n",
    "        localization = category_data.get(LOCALIZATION_KEY)\n",
    "        if not localization:\n",
    "            continue\n",
    "        en_localization = localization.get(EN_LOCALIZATION_KEY)\n",
    "        if not en_localization:\n",
    "            continue\n",
    "        category_title = en_localization['title']\n",
    "        book_ids = category_data[BOOK_IDS_KEY]\n",
    "\n",
    "        # Add this category to the respective books\n",
    "        for book_id in book_ids:\n",
    "            if not book_id in id2book:\n",
    "                print(f'Category \"{category_title}\" refers to {book_id} which is not present in books collection.')\n",
    "            else:\n",
    "                id2book[book_id].categories.append(category_title)\n",
    "    "
   ]
  },
  {
   "cell_type": "code",
   "execution_count": 8,
   "metadata": {},
   "outputs": [
    {
     "name": "stdout",
     "output_type": "stream",
     "text": [
      "Category \"Home & Environment\" refers to db317451-6a67-44b1-ab71-cf2ac414c2e9 which is not present in books collection.\n",
      "Category \"Happiness\" refers to bace612a-a60c-478a-951d-21a23b0a50d8 which is not present in books collection.\n",
      "Category \"Happiness\" refers to 337064e9-dbbe-4934-977c-1dfc8571ffd6 which is not present in books collection.\n",
      "Category \"Happiness\" refers to 363b0c49-c2d8-4e90-82fb-a28299a4c06e which is not present in books collection.\n",
      "Category \"Happiness\" refers to 0418eb4c-00b0-4700-838c-7e8da582e6db which is not present in books collection.\n",
      "Category \"Happiness\" refers to 76bf1ef1-49a2-4e72-af22-f8d1a5274c31 which is not present in books collection.\n",
      "Category \"Happiness\" refers to 7776082a-698d-430e-a217-a7e0f7eb7996 which is not present in books collection.\n",
      "Category \"Happiness\" refers to 87130977-298d-4d4c-a39e-1f51ab4940b0 which is not present in books collection.\n",
      "Category \"Happiness\" refers to 5a5bda74-ab30-4382-a383-24a4cb2e22d3 which is not present in books collection.\n",
      "Category \"Happiness\" refers to f13a38fc88314003a397 which is not present in books collection.\n",
      "Category \"Happiness\" refers to 0948dbf5f7144719815c which is not present in books collection.\n",
      "Category \"Happiness\" refers to 18601ba3ccb24779b300 which is not present in books collection.\n",
      "Category \"Happiness\" refers to 2c0c5ac2-a9e6-4e76-8d16-c949569935ce which is not present in books collection.\n",
      "Category \"Happiness\" refers to 65c1dd30-070d-4e6b-89bb-af253889be26 which is not present in books collection.\n",
      "Category \"Happiness\" refers to cQggLpsFYpfasMSqGEaq which is not present in books collection.\n",
      "Category \"Happiness\" refers to awh4qefA1ED70YgITMT7 which is not present in books collection.\n",
      "Category \"Happiness\" refers to Q3tEmRHaEYZSLnnqiWc5 which is not present in books collection.\n",
      "Category \"Happiness\" refers to VBpS1Q9LB7vWII7qfJjE which is not present in books collection.\n",
      "Category \"Happiness\" refers to 6c8TY7CC4uAKxqpCRH2E which is not present in books collection.\n",
      "Category \"Happiness\" refers to 5VCaFFoai6OezhnXty5r which is not present in books collection.\n",
      "Category \"Happiness\" refers to prKjEH9CNi0QgzK32qCZ which is not present in books collection.\n",
      "Category \"Happiness\" refers to 7dJ7MF9OGEmp5e4PLGW2 which is not present in books collection.\n",
      "Category \"Happiness\" refers to ZovdVPXbLSNskeVjXiPh which is not present in books collection.\n",
      "Category \"Personalities\" refers to a8e0be74-e786-4536-a05e-1aa87fa69ffb which is not present in books collection.\n",
      "Category \"Personalities\" refers to 76bf1ef1-49a2-4e72-af22-f8d1a5274c31 which is not present in books collection.\n",
      "Category \"Personalities\" refers to 155d1f70b0d443559a05 which is not present in books collection.\n",
      "Category \"Personalities\" refers to ec5f7863-5a77-4554-bf86-7d2eac07fc21 which is not present in books collection.\n",
      "Category \"Personalities\" refers to 8762b621-7750-45a0-b806-5b4ef217064a which is not present in books collection.\n",
      "Category \"Personalities\" refers to ade3069f-bc80-438e-be7f-d10590ab58f4 which is not present in books collection.\n",
      "Category \"Personalities\" refers to ea5336df559548369e96 which is not present in books collection.\n",
      "Category \"Leadership\" refers to e030f8b2-a716-418b-aeeb-b794fd3fa14e which is not present in books collection.\n",
      "Category \"Leadership\" refers to 1f506b70-fb6c-4800-ac32-292a2bbed912 which is not present in books collection.\n",
      "Category \"Leadership\" refers to d9702ebf-7ffb-4739-886f-d54877e448ad which is not present in books collection.\n",
      "Category \"Leadership\" refers to 08d6997c-61b0-4026-bb38-a74e9fdcd552 which is not present in books collection.\n",
      "Category \"Leadership\" refers to jBjZW4tTLT5tYAhmRxgR which is not present in books collection.\n",
      "Category \"Family\" refers to 7ab8d4b4-3e06-41af-bb78-1a56d1b56fa2 which is not present in books collection.\n",
      "Category \"Family\" refers to 15a5aeb27ba142dea373 which is not present in books collection.\n",
      "Category \"Family\" refers to 337064e9-dbbe-4934-977c-1dfc8571ffd6 which is not present in books collection.\n",
      "Category \"Family\" refers to d3e210aa-63b6-467a-a9b1-8026b875f4ef which is not present in books collection.\n",
      "Category \"Family\" refers to 65c1dd30-070d-4e6b-89bb-af253889be26 which is not present in books collection.\n",
      "Category \"Family\" refers to 1kbWpdtF612JBshyS2i4 which is not present in books collection.\n",
      "Category \"Family\" refers to YQMZllUrXwspOQ5UMoF9 which is not present in books collection.\n",
      "Category \"Family\" refers to 3315b8169b8f4be6afa6 which is not present in books collection.\n",
      "Category \"Family\" refers to d7fbef381dd446a7bddb which is not present in books collection.\n",
      "Category \"Family\" refers to 8b5b9c210598423fa569 which is not present in books collection.\n",
      "Category \"Business & Career\" refers to 30886fe7-7331-49c1-9676-214f6cfea253 which is not present in books collection.\n",
      "Category \"Business & Career\" refers to cf739c1f-4286-4160-8709-728852ba629d which is not present in books collection.\n",
      "Category \"Business & Career\" refers to 155d1f70b0d443559a05 which is not present in books collection.\n",
      "Category \"Business & Career\" refers to cdf6e746b3cc41b3ba7c which is not present in books collection.\n",
      "Category \"Business & Career\" refers to 7804e305-e381-48ed-90c9-c9088d29d260 which is not present in books collection.\n",
      "Category \"Business & Career\" refers to 0f148583dcfa4f2d9b8c which is not present in books collection.\n",
      "Category \"Business & Career\" refers to 08d6997c-61b0-4026-bb38-a74e9fdcd552 which is not present in books collection.\n",
      "Category \"Business & Career\" refers to jBjZW4tTLT5tYAhmRxgR which is not present in books collection.\n",
      "Category \"Business & Career\" refers to prKjEH9CNi0QgzK32qCZ which is not present in books collection.\n",
      "Category \"Business & Career\" refers to RmyA65mWavu7YvXTtbHV which is not present in books collection.\n",
      "Category \"Business & Career\" refers to KW0l5TDPMIyRUWikgfhO which is not present in books collection.\n",
      "Category \"Business & Career\" refers to 9c97170aaa9a4cb498c5 which is not present in books collection.\n",
      "Category \"Business & Career\" refers to 4b2716b4ad714339a656 which is not present in books collection.\n",
      "Category \"Business & Career\" refers to 4b8ac1df7e8c4feea3ff which is not present in books collection.\n",
      "Category \"Business & Career\" refers to e4556b9217234f1bba9d which is not present in books collection.\n",
      "Category \"Health\" refers to dccfa1fe-bf4e-495a-930e-bbee2aed4cca which is not present in books collection.\n",
      "Category \"Health\" refers to 6168ec58-3357-44e5-8cfa-07e93d815370 which is not present in books collection.\n",
      "Category \"Health\" refers to 0418eb4c-00b0-4700-838c-7e8da582e6db which is not present in books collection.\n",
      "Category \"Health\" refers to 50df6cef94e14ca3bbe0 which is not present in books collection.\n",
      "Category \"Health\" refers to b5c4f1ba-71fa-4461-83da-ebaebf25abb3 which is not present in books collection.\n",
      "Category \"Health\" refers to d3e210aa-63b6-467a-a9b1-8026b875f4ef which is not present in books collection.\n",
      "Category \"Health\" refers to aa58a312-338c-4729-ac35-86293f6e74a6 which is not present in books collection.\n",
      "Category \"Health\" refers to 18601ba3ccb24779b300 which is not present in books collection.\n",
      "Category \"Health\" refers to 3f3268de-837c-4466-a5c0-9ee3b08013ab which is not present in books collection.\n",
      "Category \"Health\" refers to 0e199be9abf145d49d40 which is not present in books collection.\n",
      "Category \"Health\" refers to CVIH3babkNSeviaBsqwj which is not present in books collection.\n",
      "Category \"Health\" refers to bmjsMWZj1NUEpNMxxgbe which is not present in books collection.\n",
      "Category \"Health\" refers to e4fee7ad99764a1cae91 which is not present in books collection.\n",
      "Category \"Health\" refers to ZovdVPXbLSNskeVjXiPh which is not present in books collection.\n",
      "Category \"Society & Tech\" refers to 666c5eae-57ea-45ed-b628-0042a4f5e627 which is not present in books collection.\n",
      "Category \"Society & Tech\" refers to 30886fe7-7331-49c1-9676-214f6cfea253 which is not present in books collection.\n",
      "Category \"Society & Tech\" refers to a8e0be74-e786-4536-a05e-1aa87fa69ffb which is not present in books collection.\n",
      "Category \"Society & Tech\" refers to 91de302e-4738-4a4a-8b0b-09942dca2afe which is not present in books collection.\n",
      "Category \"Society & Tech\" refers to ec5f7863-5a77-4554-bf86-7d2eac07fc21 which is not present in books collection.\n",
      "Category \"Society & Tech\" refers to 0948dbf5f7144719815c which is not present in books collection.\n",
      "Category \"Society & Tech\" refers to ade3069f-bc80-438e-be7f-d10590ab58f4 which is not present in books collection.\n",
      "Category \"Society & Tech\" refers to s7a9SdLKnZSlsGI2fjrO which is not present in books collection.\n",
      "Category \"Society & Tech\" refers to GdE3WBtP9ptruxfmZFdu which is not present in books collection.\n",
      "Category \"Society & Tech\" refers to 3958c2e5334c44eca780 which is not present in books collection.\n",
      "Category \"Society & Tech\" refers to ea5336df559548369e96 which is not present in books collection.\n",
      "Category \"Society & Tech\" refers to yFQYwYTp0ArSxh5SbYQ8 which is not present in books collection.\n",
      "Category \"Society & Tech\" refers to nHv7vZblI0yX9RFl5rGZ which is not present in books collection.\n",
      "Category \"Society & Tech\" refers to ufhHMOEqnvOYZUVWeELF which is not present in books collection.\n",
      "Category \"Society & Tech\" refers to 33fcdc80558345308f84 which is not present in books collection.\n",
      "Category \"Negotiation\" refers to e030f8b2-a716-418b-aeeb-b794fd3fa14e which is not present in books collection.\n",
      "Category \"Negotiation\" refers to 5a5bda74-ab30-4382-a383-24a4cb2e22d3 which is not present in books collection.\n",
      "Category \"Negotiation\" refers to 7804e305-e381-48ed-90c9-c9088d29d260 which is not present in books collection.\n",
      "Category \"Negotiation\" refers to AIg7TSEBen8v6DyKqgIQ which is not present in books collection.\n",
      "Category \"Negotiation\" refers to DEYF7g7li9jvNFPKVeG2 which is not present in books collection.\n",
      "Category \"Negotiation\" refers to dKheR5SzonKEsRp6kINr which is not present in books collection.\n",
      "Category \"Spirituality\" refers to 8e835a32-1333-4b83-b83a-3d0baa787724 which is not present in books collection.\n",
      "Category \"Spirituality\" refers to a23b1189-e1ca-417f-bada-360557a206fe which is not present in books collection.\n",
      "Category \"Spirituality\" refers to 26b33010-29fe-4482-819d-d0954a647384 which is not present in books collection.\n",
      "Category \"Spirituality\" refers to 60f5468e7f1b4ca38e81 which is not present in books collection.\n",
      "Category \"Spirituality\" refers to 1f506b70-fb6c-4800-ac32-292a2bbed912 which is not present in books collection.\n",
      "Category \"Spirituality\" refers to 0948dbf5f7144719815c which is not present in books collection.\n",
      "Category \"Spirituality\" refers to 93c10166-f79c-4657-8222-555182959111 which is not present in books collection.\n",
      "Category \"Spirituality\" refers to 3958c2e5334c44eca780 which is not present in books collection.\n",
      "Category \"Spirituality\" refers to vFSBskUnWShg24vHY5JP which is not present in books collection.\n",
      "Category \"Productivity\" refers to 142a1116-f4cc-4230-975f-c5f0f7cbefed which is not present in books collection.\n",
      "Category \"Productivity\" refers to 6a64481e-a8a2-45cc-94dd-8bcd79579f59 which is not present in books collection.\n",
      "Category \"Productivity\" refers to e44c409c-441b-4257-b06f-2000c7f4eba7 which is not present in books collection.\n",
      "Category \"Productivity\" refers to 21c3a53d-0677-4a18-9610-09e5422131b2 which is not present in books collection.\n",
      "Category \"Productivity\" refers to s8bjvbn2JNdqw5dBk48W which is not present in books collection.\n",
      "Category \"Productivity\" refers to UZZvkaXWAEUhP2HCxeJC which is not present in books collection.\n",
      "Category \"Productivity\" refers to jCcGEvn2jp2sZc6Kjjpb which is not present in books collection.\n",
      "Category \"Productivity\" refers to xvi4DBKkPJkUCZEFhMve which is not present in books collection.\n",
      "Category \"Productivity\" refers to Aux4AuuTI5Sdg8zZZRxD which is not present in books collection.\n",
      "Category \"Productivity\" refers to cNl1Nnd3EiNkfOwdtfEo which is not present in books collection.\n",
      "Category \"Productivity\" refers to DMNPr88H09xVdx9RF1ov which is not present in books collection.\n",
      "Category \"Productivity\" refers to TBLuNC9vpet2mO6NIPpX which is not present in books collection.\n",
      "Category \"Productivity\" refers to FEWgKK7FTCtPCBqORvGd which is not present in books collection.\n",
      "Category \"Productivity\" refers to 0e0d62a8e16744caa3f8 which is not present in books collection.\n",
      "Category \"Productivity\" refers to d7fbef381dd446a7bddb which is not present in books collection.\n",
      "Category \"Self-Growth\" refers to bace612a-a60c-478a-951d-21a23b0a50d8 which is not present in books collection.\n",
      "Category \"Self-Growth\" refers to 337064e9-dbbe-4934-977c-1dfc8571ffd6 which is not present in books collection.\n",
      "Category \"Self-Growth\" refers to 62b75d69-fbe2-45d3-b88a-d0d3fcc0d2b5 which is not present in books collection.\n",
      "Category \"Self-Growth\" refers to 7776082a-698d-430e-a217-a7e0f7eb7996 which is not present in books collection.\n",
      "Category \"Self-Growth\" refers to aa58a312-338c-4729-ac35-86293f6e74a6 which is not present in books collection.\n",
      "Category \"Self-Growth\" refers to 6a64481e-a8a2-45cc-94dd-8bcd79579f59 which is not present in books collection.\n",
      "Category \"Self-Growth\" refers to 26b33010-29fe-4482-819d-d0954a647384 which is not present in books collection.\n",
      "Category \"Self-Growth\" refers to 87130977-298d-4d4c-a39e-1f51ab4940b0 which is not present in books collection.\n",
      "Category \"Self-Growth\" refers to 60f5468e7f1b4ca38e81 which is not present in books collection.\n",
      "Category \"Self-Growth\" refers to cdf6e746b3cc41b3ba7c which is not present in books collection.\n",
      "Category \"Self-Growth\" refers to 1f506b70-fb6c-4800-ac32-292a2bbed912 which is not present in books collection.\n",
      "Category \"Self-Growth\" refers to f13a38fc88314003a397 which is not present in books collection.\n",
      "Category \"Self-Growth\" refers to 18601ba3ccb24779b300 which is not present in books collection.\n",
      "Category \"Self-Growth\" refers to d9702ebf-7ffb-4739-886f-d54877e448ad which is not present in books collection.\n",
      "Category \"Self-Growth\" refers to 21c3a53d-0677-4a18-9610-09e5422131b2 which is not present in books collection.\n",
      "Category \"Self-Growth\" refers to 74924881-c9e0-4935-a094-53e79d161ce1 which is not present in books collection.\n",
      "Category \"Self-Growth\" refers to C1BTFPCOf2w1gMkfQ8JO which is not present in books collection.\n",
      "Category \"Self-Growth\" refers to s8bjvbn2JNdqw5dBk48W which is not present in books collection.\n",
      "Category \"Self-Growth\" refers to UZZvkaXWAEUhP2HCxeJC which is not present in books collection.\n",
      "Category \"Self-Growth\" refers to AIg7TSEBen8v6DyKqgIQ which is not present in books collection.\n",
      "Category \"Self-Growth\" refers to YtVqWaaXib0AOBgh1EYZ which is not present in books collection.\n",
      "Category \"Self-Growth\" refers to jCcGEvn2jp2sZc6Kjjpb which is not present in books collection.\n",
      "Category \"Self-Growth\" refers to awh4qefA1ED70YgITMT7 which is not present in books collection.\n",
      "Category \"Self-Growth\" refers to xvi4DBKkPJkUCZEFhMve which is not present in books collection.\n",
      "Category \"Self-Growth\" refers to X7uH31DKh4vS72jR8V4X which is not present in books collection.\n",
      "Category \"Self-Growth\" refers to Q3tEmRHaEYZSLnnqiWc5 which is not present in books collection.\n",
      "Category \"Self-Growth\" refers to zALO9vyMp75KVSo31tMT which is not present in books collection.\n",
      "Category \"Self-Growth\" refers to 0e0d62a8e16744caa3f8 which is not present in books collection.\n",
      "Category \"Self-Growth\" refers to 3315b8169b8f4be6afa6 which is not present in books collection.\n",
      "Category \"Self-Growth\" refers to e0d4997b5acf472ca4ae which is not present in books collection.\n",
      "Category \"Self-Growth\" refers to RmyA65mWavu7YvXTtbHV which is not present in books collection.\n",
      "Category \"Self-Growth\" refers to IucrHAFlbPCowmZ1zyIk which is not present in books collection.\n",
      "Category \"Self-Growth\" refers to e4fee7ad99764a1cae91 which is not present in books collection.\n",
      "Category \"Self-Growth\" refers to stA9g3tZEKn1zYA51GCN which is not present in books collection.\n",
      "Category \"Self-Growth\" refers to 5vHBIHyAtEsv70txU8fQ which is not present in books collection.\n",
      "Category \"Self-Growth\" refers to sp9iHRGR746nfkZEakMW which is not present in books collection.\n",
      "Category \"Money & Investments\" refers to af19acc3-1725-429f-810c-ba630967894f which is not present in books collection.\n",
      "Category \"Money & Investments\" refers to e030f8b2-a716-418b-aeeb-b794fd3fa14e which is not present in books collection.\n",
      "Category \"Money & Investments\" refers to 155d1f70b0d443559a05 which is not present in books collection.\n",
      "Category \"Money & Investments\" refers to 55cf063d-e3f3-4a42-b8db-0ade4c8b6fa0 which is not present in books collection.\n",
      "Category \"Money & Investments\" refers to 0f148583dcfa4f2d9b8c which is not present in books collection.\n",
      "Category \"Money & Investments\" refers to AEV5gvcK4f5efi8bkLuw which is not present in books collection.\n",
      "Category \"Money & Investments\" refers to nv5JffuQ8ZXT6DPMZquC which is not present in books collection.\n",
      "Category \"Money & Investments\" refers to s8bjvbn2JNdqw5dBk48W which is not present in books collection.\n",
      "Category \"Money & Investments\" refers to 1jyZlvtT1PIk0QDiJERT which is not present in books collection.\n",
      "Category \"Money & Investments\" refers to FDnSPdvzpWCVosM2X0PA which is not present in books collection.\n",
      "Category \"Money & Investments\" refers to e0d4997b5acf472ca4ae which is not present in books collection.\n",
      "Category \"Money & Investments\" refers to AHBfZlWGWBfOVhNvI03x which is not present in books collection.\n",
      "Category \"Money & Investments\" refers to KW0l5TDPMIyRUWikgfhO which is not present in books collection.\n",
      "Category \"Money & Investments\" refers to 9c97170aaa9a4cb498c5 which is not present in books collection.\n",
      "Category \"Sports & Fitness\" refers to CVIH3babkNSeviaBsqwj which is not present in books collection.\n",
      "Category \"Sports & Fitness\" refers to tXoLX5OuyNyt18CORBzX which is not present in books collection.\n",
      "Category \"Sports & Fitness\" refers to JCAoWn80G5XsxNzswBsl which is not present in books collection.\n",
      "Category \"Sports & Fitness\" refers to 3b67c8104946443fae2c which is not present in books collection.\n",
      "Category \"Love & Sex\" refers to 15a5aeb27ba142dea373 which is not present in books collection.\n",
      "Category \"Love & Sex\" refers to 2a03195c-3dc4-4c7f-82e3-2dca4cb7b0d4 which is not present in books collection.\n",
      "Category \"Love & Sex\" refers to 2c7a1ff5-9e2f-4ffd-8ef4-34f225729c24 which is not present in books collection.\n",
      "Category \"Love & Sex\" refers to 5b28ba5e-f357-4675-b285-1f1c6e2075e7 which is not present in books collection.\n",
      "Category \"Love & Sex\" refers to f13a38fc88314003a397 which is not present in books collection.\n",
      "Category \"Love & Sex\" refers to XFATE5qVur0c4AotuDmJ which is not present in books collection.\n",
      "Category \"Love & Sex\" refers to 5bee2af3fe91479bbedb which is not present in books collection.\n",
      "Category \"Love & Sex\" refers to CVIH3babkNSeviaBsqwj which is not present in books collection.\n",
      "Category \"Love & Sex\" refers to 1kbWpdtF612JBshyS2i4 which is not present in books collection.\n",
      "Category \"Love & Sex\" refers to YQMZllUrXwspOQ5UMoF9 which is not present in books collection.\n",
      "Category \"Love & Sex\" refers to uflFgWLLFauNRomW5h6S which is not present in books collection.\n",
      "Category \"Love & Sex\" refers to e0d4997b5acf472ca4ae which is not present in books collection.\n",
      "Category \"Love & Sex\" refers to d7d348673f634607b0f5 which is not present in books collection.\n"
     ]
    }
   ],
   "source": [
    "set_book_categories(books)"
   ]
  },
  {
   "cell_type": "markdown",
   "metadata": {},
   "source": [
    "## Export books"
   ]
  },
  {
   "cell_type": "code",
   "execution_count": 10,
   "metadata": {},
   "outputs": [],
   "source": [
    "import pandas as pd"
   ]
  },
  {
   "cell_type": "code",
   "execution_count": 11,
   "metadata": {},
   "outputs": [],
   "source": [
    "df_books = pd.DataFrame([b.to_dict() for b in books])\n",
    "df_books['categories'] = df_books['categories'].apply(lambda l: '|'.join(l))\n",
    "df_books['learning_items'] = df_books['learning_items'].apply(lambda l: '|'.join(l))"
   ]
  },
  {
   "cell_type": "code",
   "execution_count": 12,
   "metadata": {},
   "outputs": [
    {
     "data": {
      "text/html": [
       "<div>\n",
       "<style scoped>\n",
       "    .dataframe tbody tr th:only-of-type {\n",
       "        vertical-align: middle;\n",
       "    }\n",
       "\n",
       "    .dataframe tbody tr th {\n",
       "        vertical-align: top;\n",
       "    }\n",
       "\n",
       "    .dataframe thead th {\n",
       "        text-align: right;\n",
       "    }\n",
       "</style>\n",
       "<table border=\"1\" class=\"dataframe\">\n",
       "  <thead>\n",
       "    <tr style=\"text-align: right;\">\n",
       "      <th></th>\n",
       "      <th>firebase_document_path</th>\n",
       "      <th>id</th>\n",
       "      <th>title</th>\n",
       "      <th>author</th>\n",
       "      <th>overview</th>\n",
       "      <th>author_overview</th>\n",
       "      <th>categories</th>\n",
       "      <th>learning_items</th>\n",
       "    </tr>\n",
       "  </thead>\n",
       "  <tbody>\n",
       "    <tr>\n",
       "      <th>0</th>\n",
       "      <td>books/0059543c-a8e5-4615-a78c-69f8e73c19c1</td>\n",
       "      <td>0059543c-a8e5-4615-a78c-69f8e73c19c1</td>\n",
       "      <td>Parenting the New Teen in the Age of Anxiety: ...</td>\n",
       "      <td>John Duffy</td>\n",
       "      <td>What’s inside\\nYou're looking at a modern pare...</td>\n",
       "      <td>John Duffy is a successful clinical psychologi...</td>\n",
       "      <td>Family</td>\n",
       "      <td>Why your teenager is glued to their screens|Ho...</td>\n",
       "    </tr>\n",
       "    <tr>\n",
       "      <th>1</th>\n",
       "      <td>books/00bb4531-5150-44af-9eb1-c160c7d26ed6</td>\n",
       "      <td>00bb4531-5150-44af-9eb1-c160c7d26ed6</td>\n",
       "      <td>Right Thing, Right Now: Good Values, Good Char...</td>\n",
       "      <td>Ryan Holiday</td>\n",
       "      <td>What’s inside\\nThe modern world has many fasci...</td>\n",
       "      <td>Ryan Holiday is known for bringing philosophy ...</td>\n",
       "      <td>Self-Growth</td>\n",
       "      <td>Which four core virtues pave the way to a succ...</td>\n",
       "    </tr>\n",
       "    <tr>\n",
       "      <th>2</th>\n",
       "      <td>books/012399fc36f74c489e4e</td>\n",
       "      <td>012399fc36f74c489e4e</td>\n",
       "      <td>Eat Move Sleep: How Small Choices Lead to Big ...</td>\n",
       "      <td>Tom Rath</td>\n",
       "      <td>What’s inside\\nDiscover how inner strength, wi...</td>\n",
       "      <td>Tom Rath is a renowned author of best-selling ...</td>\n",
       "      <td>Health</td>\n",
       "      <td>The power of positive dietary choices|How move...</td>\n",
       "    </tr>\n",
       "    <tr>\n",
       "      <th>3</th>\n",
       "      <td>books/012d6fde-51e2-4289-822a-1cbb57394bcd</td>\n",
       "      <td>012d6fde-51e2-4289-822a-1cbb57394bcd</td>\n",
       "      <td>From Strength to Strength: Finding Success, Ha...</td>\n",
       "      <td>Arthur C. Brooks</td>\n",
       "      <td>What’s inside\\nAchieving your dreams is fulfil...</td>\n",
       "      <td>Arthur C. Brooks is a scientist whose research...</td>\n",
       "      <td>Happiness|Self-Growth</td>\n",
       "      <td>The two kinds of intelligence |How to maximize...</td>\n",
       "    </tr>\n",
       "    <tr>\n",
       "      <th>4</th>\n",
       "      <td>books/017dab0f35d34af59653</td>\n",
       "      <td>017dab0f35d34af59653</td>\n",
       "      <td>Dream Big: Know What You Want, Why You Want It...</td>\n",
       "      <td>Bob Goff</td>\n",
       "      <td>What’s inside\\nBreak free from the cycle of un...</td>\n",
       "      <td>Robert Kendall Goff is a speaker, lawyer, auth...</td>\n",
       "      <td>Self-Growth</td>\n",
       "      <td>Ways to pick one ambition to focus on|Strategi...</td>\n",
       "    </tr>\n",
       "  </tbody>\n",
       "</table>\n",
       "</div>"
      ],
      "text/plain": [
       "                       firebase_document_path  \\\n",
       "0  books/0059543c-a8e5-4615-a78c-69f8e73c19c1   \n",
       "1  books/00bb4531-5150-44af-9eb1-c160c7d26ed6   \n",
       "2                  books/012399fc36f74c489e4e   \n",
       "3  books/012d6fde-51e2-4289-822a-1cbb57394bcd   \n",
       "4                  books/017dab0f35d34af59653   \n",
       "\n",
       "                                     id  \\\n",
       "0  0059543c-a8e5-4615-a78c-69f8e73c19c1   \n",
       "1  00bb4531-5150-44af-9eb1-c160c7d26ed6   \n",
       "2                  012399fc36f74c489e4e   \n",
       "3  012d6fde-51e2-4289-822a-1cbb57394bcd   \n",
       "4                  017dab0f35d34af59653   \n",
       "\n",
       "                                               title            author  \\\n",
       "0  Parenting the New Teen in the Age of Anxiety: ...        John Duffy   \n",
       "1  Right Thing, Right Now: Good Values, Good Char...      Ryan Holiday   \n",
       "2  Eat Move Sleep: How Small Choices Lead to Big ...          Tom Rath   \n",
       "3  From Strength to Strength: Finding Success, Ha...  Arthur C. Brooks   \n",
       "4  Dream Big: Know What You Want, Why You Want It...          Bob Goff   \n",
       "\n",
       "                                            overview  \\\n",
       "0  What’s inside\\nYou're looking at a modern pare...   \n",
       "1  What’s inside\\nThe modern world has many fasci...   \n",
       "2  What’s inside\\nDiscover how inner strength, wi...   \n",
       "3  What’s inside\\nAchieving your dreams is fulfil...   \n",
       "4  What’s inside\\nBreak free from the cycle of un...   \n",
       "\n",
       "                                     author_overview             categories  \\\n",
       "0  John Duffy is a successful clinical psychologi...                 Family   \n",
       "1  Ryan Holiday is known for bringing philosophy ...            Self-Growth   \n",
       "2  Tom Rath is a renowned author of best-selling ...                 Health   \n",
       "3  Arthur C. Brooks is a scientist whose research...  Happiness|Self-Growth   \n",
       "4  Robert Kendall Goff is a speaker, lawyer, auth...            Self-Growth   \n",
       "\n",
       "                                      learning_items  \n",
       "0  Why your teenager is glued to their screens|Ho...  \n",
       "1  Which four core virtues pave the way to a succ...  \n",
       "2  The power of positive dietary choices|How move...  \n",
       "3  The two kinds of intelligence |How to maximize...  \n",
       "4  Ways to pick one ambition to focus on|Strategi...  "
      ]
     },
     "execution_count": 12,
     "metadata": {},
     "output_type": "execute_result"
    }
   ],
   "source": [
    "df_books.head()"
   ]
  },
  {
   "cell_type": "code",
   "execution_count": 13,
   "metadata": {},
   "outputs": [
    {
     "data": {
      "text/html": [
       "<div>\n",
       "<style scoped>\n",
       "    .dataframe tbody tr th:only-of-type {\n",
       "        vertical-align: middle;\n",
       "    }\n",
       "\n",
       "    .dataframe tbody tr th {\n",
       "        vertical-align: top;\n",
       "    }\n",
       "\n",
       "    .dataframe thead th {\n",
       "        text-align: right;\n",
       "    }\n",
       "</style>\n",
       "<table border=\"1\" class=\"dataframe\">\n",
       "  <thead>\n",
       "    <tr style=\"text-align: right;\">\n",
       "      <th></th>\n",
       "      <th>firebase_document_path</th>\n",
       "      <th>id</th>\n",
       "      <th>title</th>\n",
       "      <th>author</th>\n",
       "      <th>overview</th>\n",
       "      <th>author_overview</th>\n",
       "      <th>categories</th>\n",
       "      <th>learning_items</th>\n",
       "    </tr>\n",
       "  </thead>\n",
       "  <tbody>\n",
       "    <tr>\n",
       "      <th>0</th>\n",
       "      <td>books/0059543c-a8e5-4615-a78c-69f8e73c19c1</td>\n",
       "      <td>0059543c-a8e5-4615-a78c-69f8e73c19c1</td>\n",
       "      <td>Parenting the New Teen in the Age of Anxiety: ...</td>\n",
       "      <td>John Duffy</td>\n",
       "      <td>What’s inside\\nYou're looking at a modern pare...</td>\n",
       "      <td>John Duffy is a successful clinical psychologi...</td>\n",
       "      <td>Family</td>\n",
       "      <td>Why your teenager is glued to their screens|Ho...</td>\n",
       "    </tr>\n",
       "    <tr>\n",
       "      <th>1</th>\n",
       "      <td>books/00bb4531-5150-44af-9eb1-c160c7d26ed6</td>\n",
       "      <td>00bb4531-5150-44af-9eb1-c160c7d26ed6</td>\n",
       "      <td>Right Thing, Right Now: Good Values, Good Char...</td>\n",
       "      <td>Ryan Holiday</td>\n",
       "      <td>What’s inside\\nThe modern world has many fasci...</td>\n",
       "      <td>Ryan Holiday is known for bringing philosophy ...</td>\n",
       "      <td>Self-Growth</td>\n",
       "      <td>Which four core virtues pave the way to a succ...</td>\n",
       "    </tr>\n",
       "    <tr>\n",
       "      <th>2</th>\n",
       "      <td>books/012399fc36f74c489e4e</td>\n",
       "      <td>012399fc36f74c489e4e</td>\n",
       "      <td>Eat Move Sleep: How Small Choices Lead to Big ...</td>\n",
       "      <td>Tom Rath</td>\n",
       "      <td>What’s inside\\nDiscover how inner strength, wi...</td>\n",
       "      <td>Tom Rath is a renowned author of best-selling ...</td>\n",
       "      <td>Health</td>\n",
       "      <td>The power of positive dietary choices|How move...</td>\n",
       "    </tr>\n",
       "    <tr>\n",
       "      <th>3</th>\n",
       "      <td>books/012d6fde-51e2-4289-822a-1cbb57394bcd</td>\n",
       "      <td>012d6fde-51e2-4289-822a-1cbb57394bcd</td>\n",
       "      <td>From Strength to Strength: Finding Success, Ha...</td>\n",
       "      <td>Arthur C. Brooks</td>\n",
       "      <td>What’s inside\\nAchieving your dreams is fulfil...</td>\n",
       "      <td>Arthur C. Brooks is a scientist whose research...</td>\n",
       "      <td>Happiness|Self-Growth</td>\n",
       "      <td>The two kinds of intelligence |How to maximize...</td>\n",
       "    </tr>\n",
       "    <tr>\n",
       "      <th>4</th>\n",
       "      <td>books/017dab0f35d34af59653</td>\n",
       "      <td>017dab0f35d34af59653</td>\n",
       "      <td>Dream Big: Know What You Want, Why You Want It...</td>\n",
       "      <td>Bob Goff</td>\n",
       "      <td>What’s inside\\nBreak free from the cycle of un...</td>\n",
       "      <td>Robert Kendall Goff is a speaker, lawyer, auth...</td>\n",
       "      <td>Self-Growth</td>\n",
       "      <td>Ways to pick one ambition to focus on|Strategi...</td>\n",
       "    </tr>\n",
       "  </tbody>\n",
       "</table>\n",
       "</div>"
      ],
      "text/plain": [
       "                       firebase_document_path  \\\n",
       "0  books/0059543c-a8e5-4615-a78c-69f8e73c19c1   \n",
       "1  books/00bb4531-5150-44af-9eb1-c160c7d26ed6   \n",
       "2                  books/012399fc36f74c489e4e   \n",
       "3  books/012d6fde-51e2-4289-822a-1cbb57394bcd   \n",
       "4                  books/017dab0f35d34af59653   \n",
       "\n",
       "                                     id  \\\n",
       "0  0059543c-a8e5-4615-a78c-69f8e73c19c1   \n",
       "1  00bb4531-5150-44af-9eb1-c160c7d26ed6   \n",
       "2                  012399fc36f74c489e4e   \n",
       "3  012d6fde-51e2-4289-822a-1cbb57394bcd   \n",
       "4                  017dab0f35d34af59653   \n",
       "\n",
       "                                               title            author  \\\n",
       "0  Parenting the New Teen in the Age of Anxiety: ...        John Duffy   \n",
       "1  Right Thing, Right Now: Good Values, Good Char...      Ryan Holiday   \n",
       "2  Eat Move Sleep: How Small Choices Lead to Big ...          Tom Rath   \n",
       "3  From Strength to Strength: Finding Success, Ha...  Arthur C. Brooks   \n",
       "4  Dream Big: Know What You Want, Why You Want It...          Bob Goff   \n",
       "\n",
       "                                            overview  \\\n",
       "0  What’s inside\\nYou're looking at a modern pare...   \n",
       "1  What’s inside\\nThe modern world has many fasci...   \n",
       "2  What’s inside\\nDiscover how inner strength, wi...   \n",
       "3  What’s inside\\nAchieving your dreams is fulfil...   \n",
       "4  What’s inside\\nBreak free from the cycle of un...   \n",
       "\n",
       "                                     author_overview             categories  \\\n",
       "0  John Duffy is a successful clinical psychologi...                 Family   \n",
       "1  Ryan Holiday is known for bringing philosophy ...            Self-Growth   \n",
       "2  Tom Rath is a renowned author of best-selling ...                 Health   \n",
       "3  Arthur C. Brooks is a scientist whose research...  Happiness|Self-Growth   \n",
       "4  Robert Kendall Goff is a speaker, lawyer, auth...            Self-Growth   \n",
       "\n",
       "                                      learning_items  \n",
       "0  Why your teenager is glued to their screens|Ho...  \n",
       "1  Which four core virtues pave the way to a succ...  \n",
       "2  The power of positive dietary choices|How move...  \n",
       "3  The two kinds of intelligence |How to maximize...  \n",
       "4  Ways to pick one ambition to focus on|Strategi...  "
      ]
     },
     "execution_count": 13,
     "metadata": {},
     "output_type": "execute_result"
    }
   ],
   "source": [
    "p_csv_dest = Path('../data/books.csv')\n",
    "df_books.to_csv(p_csv_dest)\n",
    "\n",
    "# read dataframe to ensure it being valid\n",
    "pd.read_csv(p_csv_dest, index_col=0).head()"
   ]
  },
  {
   "cell_type": "code",
   "execution_count": null,
   "metadata": {},
   "outputs": [],
   "source": []
  },
  {
   "cell_type": "code",
   "execution_count": null,
   "metadata": {},
   "outputs": [],
   "source": []
  },
  {
   "cell_type": "code",
   "execution_count": null,
   "metadata": {},
   "outputs": [],
   "source": []
  },
  {
   "cell_type": "code",
   "execution_count": null,
   "metadata": {},
   "outputs": [],
   "source": []
  }
 ],
 "metadata": {
  "kernelspec": {
   "display_name": "hw-categories",
   "language": "python",
   "name": "python3"
  },
  "language_info": {
   "codemirror_mode": {
    "name": "ipython",
    "version": 3
   },
   "file_extension": ".py",
   "mimetype": "text/x-python",
   "name": "python",
   "nbconvert_exporter": "python",
   "pygments_lexer": "ipython3",
   "version": "3.10.16"
  }
 },
 "nbformat": 4,
 "nbformat_minor": 2
}
