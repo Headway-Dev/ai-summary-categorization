{
 "cells": [
  {
   "cell_type": "code",
   "execution_count": 77,
   "metadata": {},
   "outputs": [],
   "source": [
    "import os\n",
    "os.chdir('/Users/maksym.konevych/Documents/Projects/HWPersonalization/Categorization/Code/ai_categories_experiment')"
   ]
  },
  {
   "cell_type": "code",
   "execution_count": 78,
   "metadata": {},
   "outputs": [],
   "source": [
    "import dotenv\n",
    "from pathlib import Path\n",
    "\n",
    "import pandas as pd\n",
    "\n",
    "from src.core import Book"
   ]
  },
  {
   "cell_type": "code",
   "execution_count": 79,
   "metadata": {},
   "outputs": [
    {
     "data": {
      "text/plain": [
       "True"
      ]
     },
     "execution_count": 79,
     "metadata": {},
     "output_type": "execute_result"
    }
   ],
   "source": [
    "dotenv.load_dotenv('secrets/.env')"
   ]
  },
  {
   "cell_type": "code",
   "execution_count": 80,
   "metadata": {},
   "outputs": [],
   "source": [
    "p_books = Path('data/v0.1.0.books.csv')\n",
    "df_books = pd.read_csv(p_books, index_col=0)\n",
    "df_books['categories'] = df_books['categories'].apply(lambda s: s.split('|') if not pd.isna(s) else [])"
   ]
  },
  {
   "cell_type": "code",
   "execution_count": 81,
   "metadata": {},
   "outputs": [
    {
     "data": {
      "text/html": [
       "<div>\n",
       "<style scoped>\n",
       "    .dataframe tbody tr th:only-of-type {\n",
       "        vertical-align: middle;\n",
       "    }\n",
       "\n",
       "    .dataframe tbody tr th {\n",
       "        vertical-align: top;\n",
       "    }\n",
       "\n",
       "    .dataframe thead th {\n",
       "        text-align: right;\n",
       "    }\n",
       "</style>\n",
       "<table border=\"1\" class=\"dataframe\">\n",
       "  <thead>\n",
       "    <tr style=\"text-align: right;\">\n",
       "      <th></th>\n",
       "      <th>firebase_document_path</th>\n",
       "      <th>id</th>\n",
       "      <th>title</th>\n",
       "      <th>author</th>\n",
       "      <th>overview</th>\n",
       "      <th>author_overview</th>\n",
       "      <th>categories</th>\n",
       "    </tr>\n",
       "  </thead>\n",
       "  <tbody>\n",
       "    <tr>\n",
       "      <th>0</th>\n",
       "      <td>books/0059543c-a8e5-4615-a78c-69f8e73c19c1</td>\n",
       "      <td>0059543c-a8e5-4615-a78c-69f8e73c19c1</td>\n",
       "      <td>Parenting the New Teen in the Age of Anxiety: ...</td>\n",
       "      <td>John Duffy</td>\n",
       "      <td>You're looking at a modern parenting guide. Te...</td>\n",
       "      <td>John Duffy is a successful clinical psychologi...</td>\n",
       "      <td>[Family]</td>\n",
       "    </tr>\n",
       "    <tr>\n",
       "      <th>1</th>\n",
       "      <td>books/00bb4531-5150-44af-9eb1-c160c7d26ed6</td>\n",
       "      <td>00bb4531-5150-44af-9eb1-c160c7d26ed6</td>\n",
       "      <td>Right Thing, Right Now: Good Values, Good Char...</td>\n",
       "      <td>Ryan Holiday</td>\n",
       "      <td>The modern world has many fascinating inventio...</td>\n",
       "      <td>Ryan Holiday is known for bringing philosophy ...</td>\n",
       "      <td>[Self-Growth]</td>\n",
       "    </tr>\n",
       "    <tr>\n",
       "      <th>2</th>\n",
       "      <td>books/012399fc36f74c489e4e</td>\n",
       "      <td>012399fc36f74c489e4e</td>\n",
       "      <td>Eat Move Sleep: How Small Choices Lead to Big ...</td>\n",
       "      <td>Tom Rath</td>\n",
       "      <td>Discover how inner strength, willpower, and ri...</td>\n",
       "      <td>Tom Rath is a renowned author of best-selling ...</td>\n",
       "      <td>[Health]</td>\n",
       "    </tr>\n",
       "    <tr>\n",
       "      <th>3</th>\n",
       "      <td>books/012d6fde-51e2-4289-822a-1cbb57394bcd</td>\n",
       "      <td>012d6fde-51e2-4289-822a-1cbb57394bcd</td>\n",
       "      <td>From Strength to Strength: Finding Success, Ha...</td>\n",
       "      <td>Arthur C. Brooks</td>\n",
       "      <td>Achieving your dreams is fulfilling, but what ...</td>\n",
       "      <td>Arthur C. Brooks is a scientist whose research...</td>\n",
       "      <td>[Happiness, Self-Growth]</td>\n",
       "    </tr>\n",
       "    <tr>\n",
       "      <th>4</th>\n",
       "      <td>books/017dab0f35d34af59653</td>\n",
       "      <td>017dab0f35d34af59653</td>\n",
       "      <td>Dream Big: Know What You Want, Why You Want It...</td>\n",
       "      <td>Bob Goff</td>\n",
       "      <td>Break free from the cycle of unfinished projec...</td>\n",
       "      <td>Robert Kendall Goff is a speaker, lawyer, auth...</td>\n",
       "      <td>[Self-Growth]</td>\n",
       "    </tr>\n",
       "  </tbody>\n",
       "</table>\n",
       "</div>"
      ],
      "text/plain": [
       "                       firebase_document_path  \\\n",
       "0  books/0059543c-a8e5-4615-a78c-69f8e73c19c1   \n",
       "1  books/00bb4531-5150-44af-9eb1-c160c7d26ed6   \n",
       "2                  books/012399fc36f74c489e4e   \n",
       "3  books/012d6fde-51e2-4289-822a-1cbb57394bcd   \n",
       "4                  books/017dab0f35d34af59653   \n",
       "\n",
       "                                     id  \\\n",
       "0  0059543c-a8e5-4615-a78c-69f8e73c19c1   \n",
       "1  00bb4531-5150-44af-9eb1-c160c7d26ed6   \n",
       "2                  012399fc36f74c489e4e   \n",
       "3  012d6fde-51e2-4289-822a-1cbb57394bcd   \n",
       "4                  017dab0f35d34af59653   \n",
       "\n",
       "                                               title            author  \\\n",
       "0  Parenting the New Teen in the Age of Anxiety: ...        John Duffy   \n",
       "1  Right Thing, Right Now: Good Values, Good Char...      Ryan Holiday   \n",
       "2  Eat Move Sleep: How Small Choices Lead to Big ...          Tom Rath   \n",
       "3  From Strength to Strength: Finding Success, Ha...  Arthur C. Brooks   \n",
       "4  Dream Big: Know What You Want, Why You Want It...          Bob Goff   \n",
       "\n",
       "                                            overview  \\\n",
       "0  You're looking at a modern parenting guide. Te...   \n",
       "1  The modern world has many fascinating inventio...   \n",
       "2  Discover how inner strength, willpower, and ri...   \n",
       "3  Achieving your dreams is fulfilling, but what ...   \n",
       "4  Break free from the cycle of unfinished projec...   \n",
       "\n",
       "                                     author_overview                categories  \n",
       "0  John Duffy is a successful clinical psychologi...                  [Family]  \n",
       "1  Ryan Holiday is known for bringing philosophy ...             [Self-Growth]  \n",
       "2  Tom Rath is a renowned author of best-selling ...                  [Health]  \n",
       "3  Arthur C. Brooks is a scientist whose research...  [Happiness, Self-Growth]  \n",
       "4  Robert Kendall Goff is a speaker, lawyer, auth...             [Self-Growth]  "
      ]
     },
     "execution_count": 81,
     "metadata": {},
     "output_type": "execute_result"
    }
   ],
   "source": [
    "df_books.head()"
   ]
  },
  {
   "cell_type": "code",
   "execution_count": 82,
   "metadata": {},
   "outputs": [],
   "source": [
    "books = []\n",
    "for i, row in df_books.iterrows():\n",
    "    books.append(Book(\n",
    "        firebase_document_path=row.firebase_document_path,\n",
    "        title=row.title,\n",
    "        author=row.author,\n",
    "        overview=row.overview,\n",
    "        author_overview=row.author_overview,\n",
    "        categories=row.categories,\n",
    "    ))"
   ]
  },
  {
   "cell_type": "code",
   "execution_count": 83,
   "metadata": {},
   "outputs": [
    {
     "name": "stdout",
     "output_type": "stream",
     "text": [
      "Book(id=\"0059543c-a8e5-4615-a78c-69f8e73c19c1\", title=\"Parenting the New Teen in the Age of Anxiety: A Complete Guide to Your Child's Stressed, Depressed, Expanded, Amazing Adolescence\", author=\"John Duffy\", overview=\"You're looking at a modern parenting guide. Teenag...\", author_overview=\"John Duffy is a successful clinical psychologist w...\", categories=['Family'], learning_items=[])\n",
      "Book(id=\"00bb4531-5150-44af-9eb1-c160c7d26ed6\", title=\"Right Thing, Right Now: Good Values, Good Character, Good Deeds\", author=\"Ryan Holiday\", overview=\"The modern world has many fascinating inventions, ...\", author_overview=\"Ryan Holiday is known for bringing philosophy into...\", categories=['Self-Growth'], learning_items=[])\n",
      "Book(id=\"012399fc36f74c489e4e\", title=\"Eat Move Sleep: How Small Choices Lead to Big Changes\", author=\"Tom Rath\", overview=\"Discover how inner strength, willpower, and right ...\", author_overview=\"Tom Rath is a renowned author of best-selling book...\", categories=['Health'], learning_items=[])\n",
      "Book(id=\"012d6fde-51e2-4289-822a-1cbb57394bcd\", title=\"From Strength to Strength: Finding Success, Happiness, and Purpose in Life's Second Half\", author=\"Arthur C. Brooks\", overview=\"Achieving your dreams is fulfilling, but what happ...\", author_overview=\"Arthur C. Brooks is a scientist whose research exp...\", categories=['Happiness', 'Self-Growth'], learning_items=[])\n",
      "Book(id=\"017dab0f35d34af59653\", title=\"Dream Big: Know What You Want, Why You Want It, and What You’re Going to Do About It\", author=\"Bob Goff\", overview=\"Break free from the cycle of unfinished projects a...\", author_overview=\"Robert Kendall Goff is a speaker, lawyer, author o...\", categories=['Self-Growth'], learning_items=[])\n",
      "Book(id=\"0190ec9c324648d8b937\", title=\"Girl, Stop Apologizing: A Shame-Free Plan for Embracing and Achieving Your Goals\", author=\"Rachel Hollis\", overview=\"Discover how to reveal your talents and create an ...\", author_overview=\"Rachel Hollis is a famous blogger and one of the m...\", categories=['Self-Growth'], learning_items=[])\n",
      "Book(id=\"01b85da7d21c478ab4b1\", title=\"Animal, Vegetable, Miracle: A Year of Food Life\", author=\"Barbara Kingsolver, Camille Kingsolver, Steven L. Hopp, PhD\", overview=\"Embark on a journey of growing your food from the ...\", author_overview=\"Barbara Kingsolver is a bestselling author of fict...\", categories=['Health'], learning_items=[])\n",
      "Book(id=\"01c03e5302ca43b384a9\", title=\"The 7 Habits of Highly Effective People: Powerful Lessons in Personal Change\", author=\"Stephen R. Covey\", overview=\"Get a grasp on practical principles based on justi...\", author_overview=\"Stephen R. Covey was a businessman, internationall...\", categories=['Self-Growth'], learning_items=[])\n",
      "Book(id=\"02423df2db3549aea168\", title=\"The Millionaire Next Door: The Surprising Secrets of America's Wealthy\", author=\"Thomas J. Stanley, PhD, William D. Danko, PhD\", overview=\"Unveil surprising facts and myths concerning wealt...\", author_overview=\"Thomas J. Stanley, PhD, is an American writer, res...\", categories=['Money & Investments'], learning_items=[])\n",
      "Book(id=\"024c6aef-d42c-43a0-b313-1123849fea89\", title=\"Soundtracks: The Surprising Solution to Overthinking (Overcome Toxic Thought Patterns and Take Control of Your Mindset)\", author=\"Jon Acuff\", overview=\"Uncover the magical power of mindset and unlock yo...\", author_overview=\"Jon Acuff is the New York Times bestselling author...\", categories=[], learning_items=[])\n"
     ]
    }
   ],
   "source": [
    "print('\\n'.join([str(b) for b in books[:10]]))"
   ]
  },
  {
   "cell_type": "code",
   "execution_count": 84,
   "metadata": {},
   "outputs": [
    {
     "name": "stdout",
     "output_type": "stream",
     "text": [
      "Happiness\n",
      "Home & Environment\n",
      "Spirituality\n",
      "Health\n",
      "Money & Investments\n",
      "Society & Tech\n",
      "Personalities\n",
      "Productivity\n",
      "Negotiation\n",
      "Leadership\n",
      "Business & Career\n",
      "Family\n",
      "Self-Growth\n",
      "Fiction\n",
      "Love & Sex\n",
      "Sports & Fitness\n"
     ]
    }
   ],
   "source": [
    "categories = set()\n",
    "for i, row in df_books.iterrows():\n",
    "    categories.update(set(row.categories))\n",
    "categories = list(categories)\n",
    "print('\\n'.join(categories))\n"
   ]
  },
  {
   "cell_type": "code",
   "execution_count": 85,
   "metadata": {},
   "outputs": [],
   "source": [
    "from langchain_openai import ChatOpenAI\n",
    "from langchain_core.prompts import PromptTemplate\n",
    "from langchain_community.callbacks import get_openai_callback\n",
    "from pydantic import BaseModel, Field\n"
   ]
  },
  {
   "cell_type": "code",
   "execution_count": 86,
   "metadata": {},
   "outputs": [],
   "source": [
    "class OpenAIBookCategorizer:\n",
    "    class ReasoningModel(BaseModel):\n",
    "        reasonings: list[str] = Field(description=\"Reasoning steps about topics of the book and what categories might be relevant\")\n",
    "\n",
    "\n",
    "    class BookCategoriesModel(BaseModel):\n",
    "        categories: list[str] = Field(description='Relevant categories for the book')\n",
    "\n",
    "\n",
    "    class StatisticsLogger:\n",
    "        def __init__(self) -> None:\n",
    "            self._prompt_tokens = []\n",
    "            self._completion_tokens = []\n",
    "            self._costs = []\n",
    "        \n",
    "        def log(self, prompt_tokens: int, completion_tokens: int, cost: float) -> None:\n",
    "            self._prompt_tokens.append(prompt_tokens)\n",
    "            self._completion_tokens.append(completion_tokens)\n",
    "            self._costs.append(cost)\n",
    "        \n",
    "        @property\n",
    "        def total_prompt_tokens(self) -> int:\n",
    "            return sum(self._prompt_tokens)\n",
    "\n",
    "        @property\n",
    "        def average_prompt_tokens(self) -> float:\n",
    "            return sum(self._prompt_tokens) / len(self._prompt_tokens)\n",
    "        \n",
    "        @property\n",
    "        def total_completion_tokens(self) -> int:\n",
    "            return sum(self._completion_tokens)\n",
    "        \n",
    "        @property\n",
    "        def average_completion_tokens(self) -> float:\n",
    "            return sum(self._completion_tokens) / len(self._completion_tokens)\n",
    "        \n",
    "        @property\n",
    "        def total_cost(self) -> float:\n",
    "            return sum(self._costs)\n",
    "        \n",
    "        @property\n",
    "        def average_cost(self) -> float:\n",
    "            return sum(self._costs) / len(self._costs)\n",
    "        \n",
    "        @property\n",
    "        def total_inferences(self) -> int:\n",
    "            return len(self._costs)\n",
    "        \n",
    "        def __str__(self) -> str:\n",
    "            return (\n",
    "                \"Statistics:\\n\"\n",
    "                f\"\\tNum inferences: {self.total_inferences}\\n\"\n",
    "                f\"\\tAverage Prompt Tokens: {self.average_prompt_tokens}\\n\"\n",
    "                f\"\\tAverage Completion Tokens: {self.average_completion_tokens}\\n\"\n",
    "                f\"\\tAverage Cost: {self.average_cost}\\n\"\n",
    "                f\"\\tTotal Prompt Tokens: {self.total_prompt_tokens}\\n\"\n",
    "                f\"\\tTotal Completion Tokens: {self.total_completion_tokens}\\n\"\n",
    "                f\"\\tTotal Cost: {self.total_cost}\"\n",
    "            )\n",
    "\n",
    "    \n",
    "    def __init__(self, categories: list[str]) -> None:      \n",
    "        self._categories = categories\n",
    "\n",
    "        # logging\n",
    "        self._statistics_logger = self.StatisticsLogger()\n",
    "\n",
    "        # Stage 1: Reasoning\n",
    "        llm_reasoning = ChatOpenAI(model='gpt-4o-mini', temperature=0)\n",
    "        llm_reasoning = llm_reasoning.with_structured_output(self.ReasoningModel)\n",
    "        prompt_template_reasoning = PromptTemplate.from_template(\n",
    "            \"You are an expert in book categorization. Analyze the book information step-by-step. \\n\"\n",
    "            \"\\n\"\n",
    "            \"### Book Data: \\n\"\n",
    "            \"**Title**: {title} \\n\"\n",
    "            \"**Author**: {author} \\n\"\n",
    "            \"**Overview**: \\n\"\n",
    "            \"{overview} \\n\"\n",
    "            \"\\n\"\n",
    "            \"### Instructions: \\n\"\n",
    "            \"1. Carefully analyze the book's overview, author information, etc. to determine what categories from {categories} are most relevant to the book. Your goal is to ensure that users browsing given category will only see relevant books.\"\n",
    "            \"2. Focus on assigning categories that uniquely fit the book. Determine what categories might seem relevant but should be rejected because they are secondary. **You are better-off rejecting a category that is secondary to the theme of the book that including it.**\"\n",
    "            \"3. Reason step by step, format your reasoning as a collection of thoughts.\\n\"\n",
    "            \"4. **Do not assign categories yet**.\"\n",
    "        )\n",
    "\n",
    "        self._reasoning_chain = prompt_template_reasoning | llm_reasoning\n",
    "\n",
    "        # Stage 2: Categorization\n",
    "        llm_categorization = ChatOpenAI(model='gpt-4o-mini', temperature=0)\n",
    "        llm_categorization = llm_categorization.with_structured_output(self.BookCategoriesModel)\n",
    "        \n",
    "        prompt_template_categorization = PromptTemplate.from_template(\n",
    "            \"You are a book categorization expert. Your task is to assign most appropriate categories for the book based on information about it and your prior reasonings.\\n\"\n",
    "            \"Your goal is to only assign most relevant categories to provide best user experience at discovering books through categories. \\n\"\n",
    "            \"\\n\"\n",
    "            \"### Book Data: \\n\"\n",
    "            \"**Title**: {title} \\n\"\n",
    "            \"**Author**: {author} \\n\"\n",
    "            \"**Overview**: \\n\"\n",
    "            \"{overview} \\n\"\n",
    "            \"\\n\"\n",
    "            \"{reasonings} \\n\"\n",
    "            \"\\n\"\n",
    "            \"### Instructions: \\n\"\n",
    "            \"1. Select **the most relevant** categories **only** from {categories} based on book information and prior analysis. \\n\"\n",
    "            \"2. **Do not invent new categories**.\"\n",
    "            \"3. Focus on assigning categories that uniquely fit the book. **Do not select categories that might be irrelevant or seem secondary.**\"\n",
    "        )\n",
    "        \n",
    "        self._categorization_chain = prompt_template_categorization | llm_categorization\n",
    "\n",
    "    @property\n",
    "    def statistics_logger(self) -> 'OpenAIBookCategorizer.StatisticsLogger':\n",
    "        return self._statistics_logger\n",
    "    \n",
    "    def _format_reasonings(self, reasoning: list[str]) -> str:\n",
    "        return (\n",
    "            \"### Prior reasonings:\\n\" + \"\\n\".join(f\"- {step}\" for step in reasoning)\n",
    "        )\n",
    "\n",
    "    def categorize(self, book: Book) -> tuple[list[str], list[str]]:\n",
    "        '''\n",
    "        :return: reasoning steps and categories\n",
    "        '''\n",
    "\n",
    "        with get_openai_callback() as cb:\n",
    "            # Stage 1: Reasoning\n",
    "            reasoning_response = self._reasoning_chain.invoke({\n",
    "                'title': book.title,\n",
    "                'author': book.author,\n",
    "                'overview': book.overview,\n",
    "                'author_overview': book.author_overview,\n",
    "                'categories': self._categories\n",
    "            })\n",
    "            \n",
    "            # Stage 2: Categorization\n",
    "            formatted_reasonings = self._format_reasonings(\n",
    "                reasoning_response.reasonings,\n",
    "            )\n",
    "            \n",
    "            categorization_response = self._categorization_chain.invoke({\n",
    "                'title': book.title,\n",
    "                'author': book.author,\n",
    "                'overview': book.overview,\n",
    "                'author_overview': book.author_overview,\n",
    "                'reasonings': formatted_reasonings,\n",
    "                'categories': self._categories\n",
    "            })\n",
    "\n",
    "            # Log\n",
    "            self._statistics_logger.log(\n",
    "                prompt_tokens=cb.prompt_tokens,\n",
    "                completion_tokens=cb.completion_tokens,\n",
    "                cost=cb.total_cost\n",
    "            )\n",
    "            \n",
    "        # Validate categories\n",
    "        valid_categories = []\n",
    "        invalid_categories = []\n",
    "        standardized_valid = [c.lower().strip() for c in self._categories]\n",
    "        \n",
    "        for cat in categorization_response.categories:\n",
    "            standardized = cat.lower().strip()\n",
    "            if standardized in standardized_valid:\n",
    "                valid_categories.append(cat)\n",
    "            else:\n",
    "                invalid_categories.append(cat)\n",
    "        \n",
    "        if invalid_categories:\n",
    "            print(f\"Warning: Invalid categories detected: {invalid_categories}\")\n",
    "        \n",
    "        return reasoning_response.reasonings, valid_categories\n",
    "            "
   ]
  },
  {
   "cell_type": "markdown",
   "metadata": {},
   "source": [
    "## Process Books"
   ]
  },
  {
   "cell_type": "code",
   "execution_count": 87,
   "metadata": {},
   "outputs": [],
   "source": [
    "categorizer = OpenAIBookCategorizer(categories)"
   ]
  },
  {
   "cell_type": "code",
   "execution_count": 88,
   "metadata": {},
   "outputs": [
    {
     "name": "stdout",
     "output_type": "stream",
     "text": [
      "Book(id=\"e48230b2839f4898bc8f\", title=\"Stock Investing for Dummies\", author=\"Paul Mladjenovic\", overview=\"Open the door to a happy and fulfilling life by le...\", author_overview=\"Paul Mladjenovic is an American speaker and educat...\", categories=['Money & Investments'], learning_items=[])\n"
     ]
    }
   ],
   "source": [
    "print(books[1369])"
   ]
  },
  {
   "cell_type": "code",
   "execution_count": 89,
   "metadata": {},
   "outputs": [
    {
     "data": {
      "text/plain": [
       "([\"The title 'Stock Investing for Dummies' clearly indicates that the book is focused on stock investing, which falls under the category of 'Money & Investments'.\",\n",
       "  'The author, Paul Mladjenovic, is known for writing about investing, which reinforces the idea that this book is primarily about financial education and investment strategies.',\n",
       "  \"The overview mentions 'successful investing' and 'searching for companies and brokers', which further emphasizes the financial aspect of the book, aligning it with investment education.\",\n",
       "  \"While the overview mentions 'a happy and fulfilling life', this is likely a secondary theme that relates to the benefits of successful investing rather than the primary focus of the book.\",\n",
       "  \"Categories like 'Happiness' or 'Self-Growth' could be considered, but they are not the main focus of the book. The primary aim is to educate readers on stock investing rather than personal development or happiness.\",\n",
       "  \"The book does not address topics related to 'Home & Environment', 'Spirituality', 'Health', 'Society & Tech', 'Personalities', 'Productivity', 'Negotiation', 'Leadership', 'Business & Career', 'Family', 'Fiction', 'Love & Sex', or 'Sports & Fitness', making these categories irrelevant.\",\n",
       "  \"In conclusion, the most relevant category for this book is 'Money & Investments', as it directly relates to the content and purpose of the book. Other categories, while they may have some tangential relevance, do not align closely enough with the book's primary focus.\"],\n",
       " ['Money & Investments'])"
      ]
     },
     "execution_count": 89,
     "metadata": {},
     "output_type": "execute_result"
    }
   ],
   "source": [
    "categorizer.categorize(books[1369])"
   ]
  },
  {
   "cell_type": "code",
   "execution_count": 90,
   "metadata": {},
   "outputs": [
    {
     "name": "stdout",
     "output_type": "stream",
     "text": [
      "Statistics:\n",
      "\tNum inferences: 1\n",
      "\tAverage Prompt Tokens: 948.0\n",
      "\tAverage Completion Tokens: 313.0\n",
      "\tAverage Cost: 0.00032999999999999994\n",
      "\tTotal Prompt Tokens: 948\n",
      "\tTotal Completion Tokens: 313\n",
      "\tTotal Cost: 0.00032999999999999994\n"
     ]
    }
   ],
   "source": [
    "print(str(categorizer.statistics_logger))"
   ]
  },
  {
   "cell_type": "code",
   "execution_count": 91,
   "metadata": {},
   "outputs": [
    {
     "name": "stderr",
     "output_type": "stream",
     "text": [
      "100%|██████████| 100/100 [02:12<00:00,  1.33s/it]\n"
     ]
    },
    {
     "name": "stdout",
     "output_type": "stream",
     "text": [
      "Warning: Invalid categories detected: ['Creativity']\n"
     ]
    },
    {
     "name": "stderr",
     "output_type": "stream",
     "text": []
    },
    {
     "name": "stdout",
     "output_type": "stream",
     "text": [
      "Processed 1816 books successfully.\n"
     ]
    }
   ],
   "source": [
    "import tqdm\n",
    "from concurrent.futures import ThreadPoolExecutor, as_completed\n",
    "\n",
    "books_to_process = books[:] # List of books\n",
    "l_books_n_predictions = []  # List to store (book, prediction) pairs\n",
    "\n",
    "bar = tqdm.tqdm(total=len(books_to_process))\n",
    "\n",
    "def process_book(book):\n",
    "    \"\"\"Categorize a single book and return the (book, prediction) pair.\"\"\"\n",
    "    prediction = categorizer.categorize(book)\n",
    "    bar.update()\n",
    "    return (book, prediction)\n",
    "\n",
    "# Define the number of workers (adjust based on your system & API rate limits)\n",
    "num_workers = 50  # Set this to control parallelism\n",
    "\n",
    "# Use ThreadPoolExecutor for parallel processing\n",
    "with ThreadPoolExecutor(max_workers=num_workers) as executor:\n",
    "    # Submit all book categorization tasks\n",
    "    futures = [executor.submit(process_book, book) for book in books_to_process]\n",
    "\n",
    "    for future in futures:\n",
    "        book, prediction = future.result()\n",
    "        l_books_n_predictions.append((book, prediction))\n",
    "\n",
    "# Print summary\n",
    "print(f\"Processed {len(l_books_n_predictions)} books successfully.\")\n"
   ]
  },
  {
   "cell_type": "code",
   "execution_count": 92,
   "metadata": {},
   "outputs": [
    {
     "name": "stdout",
     "output_type": "stream",
     "text": [
      "Statistics:\n",
      "\tNum inferences: 1817\n",
      "\tAverage Prompt Tokens: 956.9212988442488\n",
      "\tAverage Completion Tokens: 298.6472206934507\n",
      "\tAverage Cost: 0.00032272652724270795\n",
      "\tTotal Prompt Tokens: 1738726\n",
      "\tTotal Completion Tokens: 542642\n",
      "\tTotal Cost: 0.5863941000000004\n"
     ]
    }
   ],
   "source": [
    "print(str(categorizer.statistics_logger))"
   ]
  },
  {
   "cell_type": "code",
   "execution_count": 93,
   "metadata": {},
   "outputs": [
    {
     "data": {
      "text/html": [
       "<div>\n",
       "<style scoped>\n",
       "    .dataframe tbody tr th:only-of-type {\n",
       "        vertical-align: middle;\n",
       "    }\n",
       "\n",
       "    .dataframe tbody tr th {\n",
       "        vertical-align: top;\n",
       "    }\n",
       "\n",
       "    .dataframe thead th {\n",
       "        text-align: right;\n",
       "    }\n",
       "</style>\n",
       "<table border=\"1\" class=\"dataframe\">\n",
       "  <thead>\n",
       "    <tr style=\"text-align: right;\">\n",
       "      <th></th>\n",
       "      <th>firebase_document_path</th>\n",
       "      <th>id</th>\n",
       "      <th>title</th>\n",
       "      <th>author</th>\n",
       "      <th>overview</th>\n",
       "      <th>author_overview</th>\n",
       "      <th>categories</th>\n",
       "      <th>pred_reasoning_steps</th>\n",
       "      <th>pred_categories</th>\n",
       "    </tr>\n",
       "  </thead>\n",
       "  <tbody>\n",
       "    <tr>\n",
       "      <th>0</th>\n",
       "      <td>books/0059543c-a8e5-4615-a78c-69f8e73c19c1</td>\n",
       "      <td>0059543c-a8e5-4615-a78c-69f8e73c19c1</td>\n",
       "      <td>Parenting the New Teen in the Age of Anxiety: ...</td>\n",
       "      <td>John Duffy</td>\n",
       "      <td>You're looking at a modern parenting guide. Te...</td>\n",
       "      <td>John Duffy is a successful clinical psychologi...</td>\n",
       "      <td>Family</td>\n",
       "      <td>The book is a parenting guide, which suggests ...</td>\n",
       "      <td>Family|Health|Society &amp; Tech</td>\n",
       "    </tr>\n",
       "    <tr>\n",
       "      <th>1</th>\n",
       "      <td>books/00bb4531-5150-44af-9eb1-c160c7d26ed6</td>\n",
       "      <td>00bb4531-5150-44af-9eb1-c160c7d26ed6</td>\n",
       "      <td>Right Thing, Right Now: Good Values, Good Char...</td>\n",
       "      <td>Ryan Holiday</td>\n",
       "      <td>The modern world has many fascinating inventio...</td>\n",
       "      <td>Ryan Holiday is known for bringing philosophy ...</td>\n",
       "      <td>Self-Growth</td>\n",
       "      <td>The book discusses the importance of moral cod...</td>\n",
       "      <td>Happiness|Spirituality|Self-Growth</td>\n",
       "    </tr>\n",
       "    <tr>\n",
       "      <th>2</th>\n",
       "      <td>books/012399fc36f74c489e4e</td>\n",
       "      <td>012399fc36f74c489e4e</td>\n",
       "      <td>Eat Move Sleep: How Small Choices Lead to Big ...</td>\n",
       "      <td>Tom Rath</td>\n",
       "      <td>Discover how inner strength, willpower, and ri...</td>\n",
       "      <td>Tom Rath is a renowned author of best-selling ...</td>\n",
       "      <td>Health</td>\n",
       "      <td>The book focuses on well-being and making choi...</td>\n",
       "      <td>Health|Self-Growth</td>\n",
       "    </tr>\n",
       "    <tr>\n",
       "      <th>3</th>\n",
       "      <td>books/012d6fde-51e2-4289-822a-1cbb57394bcd</td>\n",
       "      <td>012d6fde-51e2-4289-822a-1cbb57394bcd</td>\n",
       "      <td>From Strength to Strength: Finding Success, Ha...</td>\n",
       "      <td>Arthur C. Brooks</td>\n",
       "      <td>Achieving your dreams is fulfilling, but what ...</td>\n",
       "      <td>Arthur C. Brooks is a scientist whose research...</td>\n",
       "      <td>Happiness|Self-Growth</td>\n",
       "      <td>The book's title, 'From Strength to Strength',...</td>\n",
       "      <td>Happiness|Self-Growth</td>\n",
       "    </tr>\n",
       "    <tr>\n",
       "      <th>4</th>\n",
       "      <td>books/017dab0f35d34af59653</td>\n",
       "      <td>017dab0f35d34af59653</td>\n",
       "      <td>Dream Big: Know What You Want, Why You Want It...</td>\n",
       "      <td>Bob Goff</td>\n",
       "      <td>Break free from the cycle of unfinished projec...</td>\n",
       "      <td>Robert Kendall Goff is a speaker, lawyer, auth...</td>\n",
       "      <td>Self-Growth</td>\n",
       "      <td>The title 'Dream Big' suggests a focus on aspi...</td>\n",
       "      <td>Self-Growth|Productivity</td>\n",
       "    </tr>\n",
       "  </tbody>\n",
       "</table>\n",
       "</div>"
      ],
      "text/plain": [
       "                       firebase_document_path  \\\n",
       "0  books/0059543c-a8e5-4615-a78c-69f8e73c19c1   \n",
       "1  books/00bb4531-5150-44af-9eb1-c160c7d26ed6   \n",
       "2                  books/012399fc36f74c489e4e   \n",
       "3  books/012d6fde-51e2-4289-822a-1cbb57394bcd   \n",
       "4                  books/017dab0f35d34af59653   \n",
       "\n",
       "                                     id  \\\n",
       "0  0059543c-a8e5-4615-a78c-69f8e73c19c1   \n",
       "1  00bb4531-5150-44af-9eb1-c160c7d26ed6   \n",
       "2                  012399fc36f74c489e4e   \n",
       "3  012d6fde-51e2-4289-822a-1cbb57394bcd   \n",
       "4                  017dab0f35d34af59653   \n",
       "\n",
       "                                               title            author  \\\n",
       "0  Parenting the New Teen in the Age of Anxiety: ...        John Duffy   \n",
       "1  Right Thing, Right Now: Good Values, Good Char...      Ryan Holiday   \n",
       "2  Eat Move Sleep: How Small Choices Lead to Big ...          Tom Rath   \n",
       "3  From Strength to Strength: Finding Success, Ha...  Arthur C. Brooks   \n",
       "4  Dream Big: Know What You Want, Why You Want It...          Bob Goff   \n",
       "\n",
       "                                            overview  \\\n",
       "0  You're looking at a modern parenting guide. Te...   \n",
       "1  The modern world has many fascinating inventio...   \n",
       "2  Discover how inner strength, willpower, and ri...   \n",
       "3  Achieving your dreams is fulfilling, but what ...   \n",
       "4  Break free from the cycle of unfinished projec...   \n",
       "\n",
       "                                     author_overview             categories  \\\n",
       "0  John Duffy is a successful clinical psychologi...                 Family   \n",
       "1  Ryan Holiday is known for bringing philosophy ...            Self-Growth   \n",
       "2  Tom Rath is a renowned author of best-selling ...                 Health   \n",
       "3  Arthur C. Brooks is a scientist whose research...  Happiness|Self-Growth   \n",
       "4  Robert Kendall Goff is a speaker, lawyer, auth...            Self-Growth   \n",
       "\n",
       "                                pred_reasoning_steps  \\\n",
       "0  The book is a parenting guide, which suggests ...   \n",
       "1  The book discusses the importance of moral cod...   \n",
       "2  The book focuses on well-being and making choi...   \n",
       "3  The book's title, 'From Strength to Strength',...   \n",
       "4  The title 'Dream Big' suggests a focus on aspi...   \n",
       "\n",
       "                      pred_categories  \n",
       "0        Family|Health|Society & Tech  \n",
       "1  Happiness|Spirituality|Self-Growth  \n",
       "2                  Health|Self-Growth  \n",
       "3               Happiness|Self-Growth  \n",
       "4            Self-Growth|Productivity  "
      ]
     },
     "execution_count": 93,
     "metadata": {},
     "output_type": "execute_result"
    }
   ],
   "source": [
    "row_items = [\n",
    "    {\n",
    "        **book.to_dict(),\n",
    "        'pred_reasoning_steps': pred[0],\n",
    "        'pred_categories': pred[1]\n",
    "    }\n",
    "    for book, pred in l_books_n_predictions\n",
    "]\n",
    "\n",
    "df_predictions = pd.DataFrame(row_items)\n",
    "for col in ['categories', 'pred_reasoning_steps', 'pred_categories']:\n",
    "    df_predictions[col] = df_predictions[col].apply(lambda l: '|'.join(l))\n",
    "for col in ['learning_items']:\n",
    "    del df_predictions[col]\n",
    "\n",
    "df_predictions.head()"
   ]
  },
  {
   "cell_type": "code",
   "execution_count": 94,
   "metadata": {},
   "outputs": [],
   "source": [
    "p_predictions = Path('data/v0.1.0.books_predictions.csv')\n",
    "df_predictions.to_csv(p_predictions)"
   ]
  },
  {
   "cell_type": "code",
   "execution_count": null,
   "metadata": {},
   "outputs": [],
   "source": []
  },
  {
   "cell_type": "code",
   "execution_count": null,
   "metadata": {},
   "outputs": [],
   "source": []
  },
  {
   "cell_type": "code",
   "execution_count": null,
   "metadata": {},
   "outputs": [],
   "source": []
  }
 ],
 "metadata": {
  "kernelspec": {
   "display_name": "hw-categories",
   "language": "python",
   "name": "python3"
  },
  "language_info": {
   "codemirror_mode": {
    "name": "ipython",
    "version": 3
   },
   "file_extension": ".py",
   "mimetype": "text/x-python",
   "name": "python",
   "nbconvert_exporter": "python",
   "pygments_lexer": "ipython3",
   "version": "3.10.16"
  }
 },
 "nbformat": 4,
 "nbformat_minor": 2
}
