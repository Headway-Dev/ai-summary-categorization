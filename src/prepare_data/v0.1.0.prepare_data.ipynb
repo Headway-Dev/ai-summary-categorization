{
 "cells": [
  {
   "cell_type": "code",
   "execution_count": 1,
   "metadata": {},
   "outputs": [],
   "source": [
    "import os\n",
    "os.chdir('/Users/maksym.konevych/Documents/Projects/HWPersonalization/Categorization/Code/ai_categories_experiment')"
   ]
  },
  {
   "cell_type": "code",
   "execution_count": 2,
   "metadata": {},
   "outputs": [],
   "source": [
    "import tqdm\n",
    "from pathlib import Path\n",
    "\n",
    "import firebase_admin\n",
    "from firebase_admin import credentials, firestore\n",
    "\n",
    "from src.core import Book"
   ]
  },
  {
   "cell_type": "code",
   "execution_count": 3,
   "metadata": {},
   "outputs": [],
   "source": [
    "p_firebase_credentials = Path('secrets/books-us-firebase-adminsdk-pkr1j-d0ea62b8bf.json')\n",
    "assert p_firebase_credentials.is_file()\n",
    "\n",
    "cred = credentials.Certificate(p_firebase_credentials)\n",
    "firebase_admin.initialize_app(cred)\n",
    "db = firestore.client()"
   ]
  },
  {
   "cell_type": "code",
   "execution_count": null,
   "metadata": {},
   "outputs": [],
   "source": []
  },
  {
   "cell_type": "code",
   "execution_count": 4,
   "metadata": {},
   "outputs": [],
   "source": [
    "def list_books(limit: int | None = None) -> list[Book]:\n",
    "    res_books = []\n",
    "    documents_gen = db.collection('books').list_documents()\n",
    "    if limit is None or limit < 0:\n",
    "        gen = enumerate(documents_gen)\n",
    "    else:\n",
    "        gen = zip(range(limit), documents_gen)\n",
    "    for i, document_ref in tqdm.tqdm(gen):\n",
    "        try:\n",
    "            document = document_ref.get().to_dict()\n",
    "            LOCALIZATION_KEY = 'localization'\n",
    "            EN_LOCALIZATION_KEY = 'en'\n",
    "            en_localization = document[LOCALIZATION_KEY][EN_LOCALIZATION_KEY]\n",
    "\n",
    "            firebase_document_path = document_ref.path\n",
    "            enabled = document.get('enabled')\n",
    "            if not enabled:\n",
    "                print(f'Skipping disabled book at {i}')\n",
    "                continue\n",
    "            title = en_localization.get('title')\n",
    "            author = en_localization.get('author')\n",
    "            overview = en_localization.get('overviewV2')\n",
    "            author_overview = en_localization.get('authorOverview')\n",
    "\n",
    "            book = Book(\n",
    "                firebase_document_path=firebase_document_path,\n",
    "                title=title,\n",
    "                author=author,\n",
    "                overview=overview,\n",
    "                author_overview=author_overview,\n",
    "            )\n",
    "            \n",
    "            res_books.append(book)\n",
    "        except:\n",
    "            print(f'Failed at {i}')\n",
    "    \n",
    "    return res_books"
   ]
  },
  {
   "cell_type": "code",
   "execution_count": 5,
   "metadata": {},
   "outputs": [
    {
     "name": "stderr",
     "output_type": "stream",
     "text": [
      "17it [00:06,  2.76it/s]"
     ]
    },
    {
     "name": "stdout",
     "output_type": "stream",
     "text": [
      "Failed at 16\n"
     ]
    },
    {
     "name": "stderr",
     "output_type": "stream",
     "text": [
      "29it [00:11,  2.82it/s]"
     ]
    },
    {
     "name": "stdout",
     "output_type": "stream",
     "text": [
      "Failed at 28\n"
     ]
    },
    {
     "name": "stderr",
     "output_type": "stream",
     "text": [
      "33it [00:12,  2.85it/s]"
     ]
    },
    {
     "name": "stdout",
     "output_type": "stream",
     "text": [
      "Failed at 32\n"
     ]
    },
    {
     "name": "stderr",
     "output_type": "stream",
     "text": [
      "57it [00:22,  2.72it/s]"
     ]
    },
    {
     "name": "stdout",
     "output_type": "stream",
     "text": [
      "Failed at 56\n"
     ]
    },
    {
     "name": "stderr",
     "output_type": "stream",
     "text": [
      "59it [00:23,  2.71it/s]"
     ]
    },
    {
     "name": "stdout",
     "output_type": "stream",
     "text": [
      "Skipping disabled book at 57\n"
     ]
    },
    {
     "name": "stderr",
     "output_type": "stream",
     "text": [
      "63it [00:25,  2.71it/s]"
     ]
    },
    {
     "name": "stdout",
     "output_type": "stream",
     "text": [
      "Failed at 61\n"
     ]
    },
    {
     "name": "stderr",
     "output_type": "stream",
     "text": [
      "83it [00:33,  2.75it/s]"
     ]
    },
    {
     "name": "stdout",
     "output_type": "stream",
     "text": [
      "Failed at 81\n"
     ]
    },
    {
     "name": "stderr",
     "output_type": "stream",
     "text": [
      "89it [00:35,  2.74it/s]"
     ]
    },
    {
     "name": "stdout",
     "output_type": "stream",
     "text": [
      "Failed at 88\n"
     ]
    },
    {
     "name": "stderr",
     "output_type": "stream",
     "text": [
      "91it [00:36,  2.72it/s]"
     ]
    },
    {
     "name": "stdout",
     "output_type": "stream",
     "text": [
      "Failed at 89\n"
     ]
    },
    {
     "name": "stderr",
     "output_type": "stream",
     "text": [
      "96it [00:38,  2.29it/s]"
     ]
    },
    {
     "name": "stdout",
     "output_type": "stream",
     "text": [
      "Failed at 95\n"
     ]
    },
    {
     "name": "stderr",
     "output_type": "stream",
     "text": [
      "134it [00:47,  5.58it/s]"
     ]
    },
    {
     "name": "stdout",
     "output_type": "stream",
     "text": [
      "Failed at 132\n"
     ]
    },
    {
     "name": "stderr",
     "output_type": "stream",
     "text": [
      "138it [00:48,  5.45it/s]"
     ]
    },
    {
     "name": "stdout",
     "output_type": "stream",
     "text": [
      "Failed at 136\n",
      "Failed at 137\n"
     ]
    },
    {
     "name": "stderr",
     "output_type": "stream",
     "text": [
      "169it [00:55,  5.35it/s]"
     ]
    },
    {
     "name": "stdout",
     "output_type": "stream",
     "text": [
      "Failed at 167\n"
     ]
    },
    {
     "name": "stderr",
     "output_type": "stream",
     "text": [
      "191it [00:59,  4.92it/s]"
     ]
    },
    {
     "name": "stdout",
     "output_type": "stream",
     "text": [
      "Failed at 189\n"
     ]
    },
    {
     "name": "stderr",
     "output_type": "stream",
     "text": [
      "198it [01:01,  4.83it/s]"
     ]
    },
    {
     "name": "stdout",
     "output_type": "stream",
     "text": [
      "Failed at 196\n"
     ]
    },
    {
     "name": "stderr",
     "output_type": "stream",
     "text": [
      "203it [01:02,  3.68it/s]"
     ]
    },
    {
     "name": "stdout",
     "output_type": "stream",
     "text": [
      "Failed at 201\n"
     ]
    },
    {
     "name": "stderr",
     "output_type": "stream",
     "text": [
      "228it [01:08,  4.45it/s]"
     ]
    },
    {
     "name": "stdout",
     "output_type": "stream",
     "text": [
      "Failed at 227\n"
     ]
    },
    {
     "name": "stderr",
     "output_type": "stream",
     "text": [
      "241it [01:11,  5.19it/s]"
     ]
    },
    {
     "name": "stdout",
     "output_type": "stream",
     "text": [
      "Failed at 239\n"
     ]
    },
    {
     "name": "stderr",
     "output_type": "stream",
     "text": [
      "254it [01:14,  4.67it/s]"
     ]
    },
    {
     "name": "stdout",
     "output_type": "stream",
     "text": [
      "Failed at 253\n"
     ]
    },
    {
     "name": "stderr",
     "output_type": "stream",
     "text": [
      "265it [01:16,  5.88it/s]"
     ]
    },
    {
     "name": "stdout",
     "output_type": "stream",
     "text": [
      "Skipping disabled book at 263\n"
     ]
    },
    {
     "name": "stderr",
     "output_type": "stream",
     "text": [
      "274it [01:18,  5.34it/s]"
     ]
    },
    {
     "name": "stdout",
     "output_type": "stream",
     "text": [
      "Skipping disabled book at 272\n"
     ]
    },
    {
     "name": "stderr",
     "output_type": "stream",
     "text": [
      "284it [01:20,  5.34it/s]"
     ]
    },
    {
     "name": "stdout",
     "output_type": "stream",
     "text": [
      "Failed at 282\n"
     ]
    },
    {
     "name": "stderr",
     "output_type": "stream",
     "text": [
      "372it [01:40,  4.55it/s]"
     ]
    },
    {
     "name": "stdout",
     "output_type": "stream",
     "text": [
      "Failed at 371\n"
     ]
    },
    {
     "name": "stderr",
     "output_type": "stream",
     "text": [
      "391it [01:45,  4.94it/s]"
     ]
    },
    {
     "name": "stdout",
     "output_type": "stream",
     "text": [
      "Failed at 389\n"
     ]
    },
    {
     "name": "stderr",
     "output_type": "stream",
     "text": [
      "415it [01:50,  5.56it/s]"
     ]
    },
    {
     "name": "stdout",
     "output_type": "stream",
     "text": [
      "Failed at 414\n"
     ]
    },
    {
     "name": "stderr",
     "output_type": "stream",
     "text": [
      "421it [01:52,  5.63it/s]"
     ]
    },
    {
     "name": "stdout",
     "output_type": "stream",
     "text": [
      "Failed at 419\n"
     ]
    },
    {
     "name": "stderr",
     "output_type": "stream",
     "text": [
      "425it [01:53,  5.32it/s]"
     ]
    },
    {
     "name": "stdout",
     "output_type": "stream",
     "text": [
      "Failed at 423\n"
     ]
    },
    {
     "name": "stderr",
     "output_type": "stream",
     "text": [
      "429it [01:53,  5.41it/s]"
     ]
    },
    {
     "name": "stdout",
     "output_type": "stream",
     "text": [
      "Skipping disabled book at 427\n"
     ]
    },
    {
     "name": "stderr",
     "output_type": "stream",
     "text": [
      "451it [01:58,  5.30it/s]"
     ]
    },
    {
     "name": "stdout",
     "output_type": "stream",
     "text": [
      "Failed at 449\n",
      "Failed at 450\n"
     ]
    },
    {
     "name": "stderr",
     "output_type": "stream",
     "text": [
      "453it [01:58,  5.76it/s]"
     ]
    },
    {
     "name": "stdout",
     "output_type": "stream",
     "text": [
      "Failed at 452\n"
     ]
    },
    {
     "name": "stderr",
     "output_type": "stream",
     "text": [
      "471it [02:02,  4.93it/s]"
     ]
    },
    {
     "name": "stdout",
     "output_type": "stream",
     "text": [
      "Failed at 469\n"
     ]
    },
    {
     "name": "stderr",
     "output_type": "stream",
     "text": [
      "476it [02:03,  4.68it/s]"
     ]
    },
    {
     "name": "stdout",
     "output_type": "stream",
     "text": [
      "Failed at 474\n"
     ]
    },
    {
     "name": "stderr",
     "output_type": "stream",
     "text": [
      "484it [02:05,  4.82it/s]"
     ]
    },
    {
     "name": "stdout",
     "output_type": "stream",
     "text": [
      "Failed at 482\n"
     ]
    },
    {
     "name": "stderr",
     "output_type": "stream",
     "text": [
      "486it [02:06,  4.04it/s]"
     ]
    },
    {
     "name": "stdout",
     "output_type": "stream",
     "text": [
      "Skipping disabled book at 485\n"
     ]
    },
    {
     "name": "stderr",
     "output_type": "stream",
     "text": [
      "495it [02:08,  5.20it/s]"
     ]
    },
    {
     "name": "stdout",
     "output_type": "stream",
     "text": [
      "Failed at 494\n"
     ]
    },
    {
     "name": "stderr",
     "output_type": "stream",
     "text": [
      "503it [02:10,  3.44it/s]"
     ]
    },
    {
     "name": "stdout",
     "output_type": "stream",
     "text": [
      "Failed at 502\n"
     ]
    },
    {
     "name": "stderr",
     "output_type": "stream",
     "text": [
      "535it [02:18,  5.14it/s]"
     ]
    },
    {
     "name": "stdout",
     "output_type": "stream",
     "text": [
      "Failed at 534\n"
     ]
    },
    {
     "name": "stderr",
     "output_type": "stream",
     "text": [
      "539it [02:19,  4.96it/s]"
     ]
    },
    {
     "name": "stdout",
     "output_type": "stream",
     "text": [
      "Failed at 537\n",
      "Failed at 538\n"
     ]
    },
    {
     "name": "stderr",
     "output_type": "stream",
     "text": [
      "540it [02:19,  5.20it/s]"
     ]
    },
    {
     "name": "stdout",
     "output_type": "stream",
     "text": [
      "Failed at 539\n"
     ]
    },
    {
     "name": "stderr",
     "output_type": "stream",
     "text": [
      "552it [02:22,  5.07it/s]"
     ]
    },
    {
     "name": "stdout",
     "output_type": "stream",
     "text": [
      "Failed at 550\n"
     ]
    },
    {
     "name": "stderr",
     "output_type": "stream",
     "text": [
      "597it [02:32,  5.72it/s]"
     ]
    },
    {
     "name": "stdout",
     "output_type": "stream",
     "text": [
      "Failed at 596\n"
     ]
    },
    {
     "name": "stderr",
     "output_type": "stream",
     "text": [
      "602it [02:34,  2.89it/s]"
     ]
    },
    {
     "name": "stdout",
     "output_type": "stream",
     "text": [
      "Failed at 600\n"
     ]
    },
    {
     "name": "stderr",
     "output_type": "stream",
     "text": [
      "626it [02:39,  5.33it/s]"
     ]
    },
    {
     "name": "stdout",
     "output_type": "stream",
     "text": [
      "Skipping disabled book at 624\n"
     ]
    },
    {
     "name": "stderr",
     "output_type": "stream",
     "text": [
      "628it [02:40,  4.53it/s]"
     ]
    },
    {
     "name": "stdout",
     "output_type": "stream",
     "text": [
      "Failed at 627\n"
     ]
    },
    {
     "name": "stderr",
     "output_type": "stream",
     "text": [
      "646it [02:44,  4.68it/s]"
     ]
    },
    {
     "name": "stdout",
     "output_type": "stream",
     "text": [
      "Failed at 644\n"
     ]
    },
    {
     "name": "stderr",
     "output_type": "stream",
     "text": [
      "666it [02:48,  5.20it/s]"
     ]
    },
    {
     "name": "stdout",
     "output_type": "stream",
     "text": [
      "Failed at 665\n"
     ]
    },
    {
     "name": "stderr",
     "output_type": "stream",
     "text": [
      "675it [02:50,  5.13it/s]"
     ]
    },
    {
     "name": "stdout",
     "output_type": "stream",
     "text": [
      "Failed at 673\n"
     ]
    },
    {
     "name": "stderr",
     "output_type": "stream",
     "text": [
      "738it [03:05,  5.16it/s]"
     ]
    },
    {
     "name": "stdout",
     "output_type": "stream",
     "text": [
      "Skipping disabled book at 737\n"
     ]
    },
    {
     "name": "stderr",
     "output_type": "stream",
     "text": [
      "741it [03:05,  5.15it/s]"
     ]
    },
    {
     "name": "stdout",
     "output_type": "stream",
     "text": [
      "Failed at 739\n",
      "Failed at 740\n"
     ]
    },
    {
     "name": "stderr",
     "output_type": "stream",
     "text": [
      "759it [03:10,  4.98it/s]"
     ]
    },
    {
     "name": "stdout",
     "output_type": "stream",
     "text": [
      "Failed at 757\n"
     ]
    },
    {
     "name": "stderr",
     "output_type": "stream",
     "text": [
      "776it [03:13,  5.01it/s]"
     ]
    },
    {
     "name": "stdout",
     "output_type": "stream",
     "text": [
      "Failed at 774\n"
     ]
    },
    {
     "name": "stderr",
     "output_type": "stream",
     "text": [
      "785it [03:15,  5.35it/s]"
     ]
    },
    {
     "name": "stdout",
     "output_type": "stream",
     "text": [
      "Failed at 784\n"
     ]
    },
    {
     "name": "stderr",
     "output_type": "stream",
     "text": [
      "796it [03:18,  4.89it/s]"
     ]
    },
    {
     "name": "stdout",
     "output_type": "stream",
     "text": [
      "Failed at 795\n"
     ]
    },
    {
     "name": "stderr",
     "output_type": "stream",
     "text": [
      "802it [03:19,  3.08it/s]"
     ]
    },
    {
     "name": "stdout",
     "output_type": "stream",
     "text": [
      "Failed at 801\n"
     ]
    },
    {
     "name": "stderr",
     "output_type": "stream",
     "text": [
      "841it [03:28,  5.48it/s]"
     ]
    },
    {
     "name": "stdout",
     "output_type": "stream",
     "text": [
      "Failed at 839\n",
      "Failed at 840\n"
     ]
    },
    {
     "name": "stderr",
     "output_type": "stream",
     "text": [
      "868it [03:34,  5.45it/s]"
     ]
    },
    {
     "name": "stdout",
     "output_type": "stream",
     "text": [
      "Skipping disabled book at 867\n"
     ]
    },
    {
     "name": "stderr",
     "output_type": "stream",
     "text": [
      "898it [03:42,  5.07it/s]"
     ]
    },
    {
     "name": "stdout",
     "output_type": "stream",
     "text": [
      "Skipping disabled book at 897\n"
     ]
    },
    {
     "name": "stderr",
     "output_type": "stream",
     "text": [
      "1014it [04:11,  4.81it/s]"
     ]
    },
    {
     "name": "stdout",
     "output_type": "stream",
     "text": [
      "Skipping disabled book at 1013\n"
     ]
    },
    {
     "name": "stderr",
     "output_type": "stream",
     "text": [
      "1026it [04:13,  5.13it/s]"
     ]
    },
    {
     "name": "stdout",
     "output_type": "stream",
     "text": [
      "Failed at 1025\n"
     ]
    },
    {
     "name": "stderr",
     "output_type": "stream",
     "text": [
      "1058it [04:21,  4.50it/s]"
     ]
    },
    {
     "name": "stdout",
     "output_type": "stream",
     "text": [
      "Failed at 1057\n"
     ]
    },
    {
     "name": "stderr",
     "output_type": "stream",
     "text": [
      "1083it [04:27,  4.92it/s]"
     ]
    },
    {
     "name": "stdout",
     "output_type": "stream",
     "text": [
      "Failed at 1081\n"
     ]
    },
    {
     "name": "stderr",
     "output_type": "stream",
     "text": [
      "1088it [04:28,  4.81it/s]"
     ]
    },
    {
     "name": "stdout",
     "output_type": "stream",
     "text": [
      "Failed at 1086\n"
     ]
    },
    {
     "name": "stderr",
     "output_type": "stream",
     "text": [
      "1119it [04:36,  4.72it/s]"
     ]
    },
    {
     "name": "stdout",
     "output_type": "stream",
     "text": [
      "Failed at 1117\n"
     ]
    },
    {
     "name": "stderr",
     "output_type": "stream",
     "text": [
      "1120it [04:36,  5.01it/s]"
     ]
    },
    {
     "name": "stdout",
     "output_type": "stream",
     "text": [
      "Skipping disabled book at 1119\n"
     ]
    },
    {
     "name": "stderr",
     "output_type": "stream",
     "text": [
      "1137it [04:40,  4.05it/s]"
     ]
    },
    {
     "name": "stdout",
     "output_type": "stream",
     "text": [
      "Failed at 1136\n"
     ]
    },
    {
     "name": "stderr",
     "output_type": "stream",
     "text": [
      "1146it [04:42,  5.52it/s]"
     ]
    },
    {
     "name": "stdout",
     "output_type": "stream",
     "text": [
      "Failed at 1144\n"
     ]
    },
    {
     "name": "stderr",
     "output_type": "stream",
     "text": [
      "1164it [04:46,  4.77it/s]"
     ]
    },
    {
     "name": "stdout",
     "output_type": "stream",
     "text": [
      "Failed at 1162\n"
     ]
    },
    {
     "name": "stderr",
     "output_type": "stream",
     "text": [
      "1195it [04:52,  5.05it/s]"
     ]
    },
    {
     "name": "stdout",
     "output_type": "stream",
     "text": [
      "Failed at 1194\n"
     ]
    },
    {
     "name": "stderr",
     "output_type": "stream",
     "text": [
      "1207it [04:56,  4.23it/s]"
     ]
    },
    {
     "name": "stdout",
     "output_type": "stream",
     "text": [
      "Failed at 1206\n"
     ]
    },
    {
     "name": "stderr",
     "output_type": "stream",
     "text": [
      "1220it [04:59,  5.18it/s]"
     ]
    },
    {
     "name": "stdout",
     "output_type": "stream",
     "text": [
      "Failed at 1218\n"
     ]
    },
    {
     "name": "stderr",
     "output_type": "stream",
     "text": [
      "1225it [04:59,  5.87it/s]"
     ]
    },
    {
     "name": "stdout",
     "output_type": "stream",
     "text": [
      "Failed at 1223\n"
     ]
    },
    {
     "name": "stderr",
     "output_type": "stream",
     "text": [
      "1233it [05:01,  4.27it/s]"
     ]
    },
    {
     "name": "stdout",
     "output_type": "stream",
     "text": [
      "Failed at 1232\n"
     ]
    },
    {
     "name": "stderr",
     "output_type": "stream",
     "text": [
      "1249it [05:05,  5.34it/s]"
     ]
    },
    {
     "name": "stdout",
     "output_type": "stream",
     "text": [
      "Failed at 1247\n"
     ]
    },
    {
     "name": "stderr",
     "output_type": "stream",
     "text": [
      "1272it [05:10,  4.23it/s]"
     ]
    },
    {
     "name": "stdout",
     "output_type": "stream",
     "text": [
      "Failed at 1271\n"
     ]
    },
    {
     "name": "stderr",
     "output_type": "stream",
     "text": [
      "1318it [05:22,  4.98it/s]"
     ]
    },
    {
     "name": "stdout",
     "output_type": "stream",
     "text": [
      "Skipping disabled book at 1317\n"
     ]
    },
    {
     "name": "stderr",
     "output_type": "stream",
     "text": [
      "1341it [05:26,  6.00it/s]"
     ]
    },
    {
     "name": "stdout",
     "output_type": "stream",
     "text": [
      "Failed at 1339\n",
      "Skipping disabled book at 1340\n"
     ]
    },
    {
     "name": "stderr",
     "output_type": "stream",
     "text": [
      "1353it [05:28,  4.96it/s]"
     ]
    },
    {
     "name": "stdout",
     "output_type": "stream",
     "text": [
      "Failed at 1352\n"
     ]
    },
    {
     "name": "stderr",
     "output_type": "stream",
     "text": [
      "1361it [05:30,  4.12it/s]"
     ]
    },
    {
     "name": "stdout",
     "output_type": "stream",
     "text": [
      "Failed at 1360\n"
     ]
    },
    {
     "name": "stderr",
     "output_type": "stream",
     "text": [
      "1371it [05:33,  5.01it/s]"
     ]
    },
    {
     "name": "stdout",
     "output_type": "stream",
     "text": [
      "Failed at 1369\n"
     ]
    },
    {
     "name": "stderr",
     "output_type": "stream",
     "text": [
      "1383it [05:35,  5.69it/s]"
     ]
    },
    {
     "name": "stdout",
     "output_type": "stream",
     "text": [
      "Failed at 1382\n"
     ]
    },
    {
     "name": "stderr",
     "output_type": "stream",
     "text": [
      "1404it [05:40,  3.71it/s]"
     ]
    },
    {
     "name": "stdout",
     "output_type": "stream",
     "text": [
      "Failed at 1403\n"
     ]
    },
    {
     "name": "stderr",
     "output_type": "stream",
     "text": [
      "1412it [05:42,  5.51it/s]"
     ]
    },
    {
     "name": "stdout",
     "output_type": "stream",
     "text": [
      "Failed at 1411\n"
     ]
    },
    {
     "name": "stderr",
     "output_type": "stream",
     "text": [
      "1418it [05:43,  5.18it/s]"
     ]
    },
    {
     "name": "stdout",
     "output_type": "stream",
     "text": [
      "Failed at 1417\n"
     ]
    },
    {
     "name": "stderr",
     "output_type": "stream",
     "text": [
      "1428it [05:45,  5.35it/s]"
     ]
    },
    {
     "name": "stdout",
     "output_type": "stream",
     "text": [
      "Failed at 1427\n"
     ]
    },
    {
     "name": "stderr",
     "output_type": "stream",
     "text": [
      "1447it [05:49,  5.61it/s]"
     ]
    },
    {
     "name": "stdout",
     "output_type": "stream",
     "text": [
      "Failed at 1446\n"
     ]
    },
    {
     "name": "stderr",
     "output_type": "stream",
     "text": [
      "1462it [05:53,  4.80it/s]"
     ]
    },
    {
     "name": "stdout",
     "output_type": "stream",
     "text": [
      "Failed at 1460\n",
      "Skipping disabled book at 1461\n"
     ]
    },
    {
     "name": "stderr",
     "output_type": "stream",
     "text": [
      "1465it [05:54,  4.74it/s]"
     ]
    },
    {
     "name": "stdout",
     "output_type": "stream",
     "text": [
      "Skipping disabled book at 1464\n"
     ]
    },
    {
     "name": "stderr",
     "output_type": "stream",
     "text": [
      "1495it [06:00,  4.55it/s]"
     ]
    },
    {
     "name": "stdout",
     "output_type": "stream",
     "text": [
      "Skipping disabled book at 1494\n"
     ]
    },
    {
     "name": "stderr",
     "output_type": "stream",
     "text": [
      "1501it [06:02,  2.53it/s]"
     ]
    },
    {
     "name": "stdout",
     "output_type": "stream",
     "text": [
      "Failed at 1500\n"
     ]
    },
    {
     "name": "stderr",
     "output_type": "stream",
     "text": [
      "1527it [06:07,  5.80it/s]"
     ]
    },
    {
     "name": "stdout",
     "output_type": "stream",
     "text": [
      "Failed at 1525\n"
     ]
    },
    {
     "name": "stderr",
     "output_type": "stream",
     "text": [
      "1644it [06:35,  4.71it/s]"
     ]
    },
    {
     "name": "stdout",
     "output_type": "stream",
     "text": [
      "Skipping disabled book at 1642\n",
      "Failed at 1643\n"
     ]
    },
    {
     "name": "stderr",
     "output_type": "stream",
     "text": [
      "1649it [06:36,  4.85it/s]"
     ]
    },
    {
     "name": "stdout",
     "output_type": "stream",
     "text": [
      "Skipping disabled book at 1648\n"
     ]
    },
    {
     "name": "stderr",
     "output_type": "stream",
     "text": [
      "1729it [06:56,  4.76it/s]"
     ]
    },
    {
     "name": "stdout",
     "output_type": "stream",
     "text": [
      "Failed at 1727\n"
     ]
    },
    {
     "name": "stderr",
     "output_type": "stream",
     "text": [
      "1792it [07:10,  5.12it/s]"
     ]
    },
    {
     "name": "stdout",
     "output_type": "stream",
     "text": [
      "Failed at 1790\n",
      "Failed at 1791\n"
     ]
    },
    {
     "name": "stderr",
     "output_type": "stream",
     "text": [
      "1839it [07:21,  5.19it/s]"
     ]
    },
    {
     "name": "stdout",
     "output_type": "stream",
     "text": [
      "Failed at 1837\n"
     ]
    },
    {
     "name": "stderr",
     "output_type": "stream",
     "text": [
      "1884it [07:31,  4.95it/s]"
     ]
    },
    {
     "name": "stdout",
     "output_type": "stream",
     "text": [
      "Failed at 1882\n"
     ]
    },
    {
     "name": "stderr",
     "output_type": "stream",
     "text": [
      "1887it [07:32,  4.59it/s]"
     ]
    },
    {
     "name": "stdout",
     "output_type": "stream",
     "text": [
      "Failed at 1886\n"
     ]
    },
    {
     "name": "stderr",
     "output_type": "stream",
     "text": [
      "1900it [07:35,  5.27it/s]"
     ]
    },
    {
     "name": "stdout",
     "output_type": "stream",
     "text": [
      "Failed at 1899\n"
     ]
    },
    {
     "name": "stderr",
     "output_type": "stream",
     "text": [
      "1923it [07:41,  4.17it/s]\n"
     ]
    }
   ],
   "source": [
    "books = list_books()"
   ]
  },
  {
   "cell_type": "code",
   "execution_count": 6,
   "metadata": {},
   "outputs": [
    {
     "name": "stdout",
     "output_type": "stream",
     "text": [
      "Total books: 1816\n"
     ]
    }
   ],
   "source": [
    "print('Total books:', len(books))"
   ]
  },
  {
   "cell_type": "code",
   "execution_count": 7,
   "metadata": {},
   "outputs": [],
   "source": [
    "def set_book_categories(books: list[Book]) -> None:\n",
    "    LOCALIZATION_KEY = 'localization'\n",
    "    EN_LOCALIZATION_KEY = 'en'\n",
    "    BOOK_IDS_KEY = 'booksIds'\n",
    "\n",
    "    id2book = {\n",
    "        b.book_id: b\n",
    "        for b in books\n",
    "    }\n",
    "    # Clear existing categories\n",
    "    for b in books:\n",
    "        b.categories.clear()\n",
    "\n",
    "    # Read categoreis\n",
    "    categories_document_ref = db.collection('common').document('categories')\n",
    "    categories_document = categories_document_ref.get().to_dict()\n",
    "    for _, category_data in categories_document['categories'].items():\n",
    "        localization = category_data.get(LOCALIZATION_KEY)\n",
    "        if not localization:\n",
    "            continue\n",
    "        en_localization = localization.get(EN_LOCALIZATION_KEY)\n",
    "        if not en_localization:\n",
    "            continue\n",
    "        category_title = en_localization['title']\n",
    "        book_ids = category_data[BOOK_IDS_KEY]\n",
    "\n",
    "        # Add this category to the respective books\n",
    "        for book_id in book_ids:\n",
    "            if not book_id in id2book:\n",
    "                print(f'Category \"{category_title}\" refers to {book_id} which is not present in books collection.')\n",
    "            else:\n",
    "                id2book[book_id].categories.append(category_title)\n",
    "    "
   ]
  },
  {
   "cell_type": "code",
   "execution_count": 8,
   "metadata": {},
   "outputs": [
    {
     "name": "stdout",
     "output_type": "stream",
     "text": [
      "Category \"Home & Environment\" refers to db317451-6a67-44b1-ab71-cf2ac414c2e9 which is not present in books collection.\n",
      "Category \"Happiness\" refers to 0948dbf5f7144719815c which is not present in books collection.\n",
      "Category \"Happiness\" refers to bace612a-a60c-478a-951d-21a23b0a50d8 which is not present in books collection.\n",
      "Category \"Happiness\" refers to 337064e9-dbbe-4934-977c-1dfc8571ffd6 which is not present in books collection.\n",
      "Category \"Happiness\" refers to 363b0c49-c2d8-4e90-82fb-a28299a4c06e which is not present in books collection.\n",
      "Category \"Happiness\" refers to 0418eb4c-00b0-4700-838c-7e8da582e6db which is not present in books collection.\n",
      "Category \"Happiness\" refers to 76bf1ef1-49a2-4e72-af22-f8d1a5274c31 which is not present in books collection.\n",
      "Category \"Happiness\" refers to 7776082a-698d-430e-a217-a7e0f7eb7996 which is not present in books collection.\n",
      "Category \"Happiness\" refers to 87130977-298d-4d4c-a39e-1f51ab4940b0 which is not present in books collection.\n",
      "Category \"Happiness\" refers to 5a5bda74-ab30-4382-a383-24a4cb2e22d3 which is not present in books collection.\n",
      "Category \"Happiness\" refers to f13a38fc88314003a397 which is not present in books collection.\n",
      "Category \"Happiness\" refers to 18601ba3ccb24779b300 which is not present in books collection.\n",
      "Category \"Happiness\" refers to 2c0c5ac2-a9e6-4e76-8d16-c949569935ce which is not present in books collection.\n",
      "Category \"Happiness\" refers to 65c1dd30-070d-4e6b-89bb-af253889be26 which is not present in books collection.\n",
      "Category \"Happiness\" refers to cQggLpsFYpfasMSqGEaq which is not present in books collection.\n",
      "Category \"Happiness\" refers to awh4qefA1ED70YgITMT7 which is not present in books collection.\n",
      "Category \"Happiness\" refers to Q3tEmRHaEYZSLnnqiWc5 which is not present in books collection.\n",
      "Category \"Happiness\" refers to VBpS1Q9LB7vWII7qfJjE which is not present in books collection.\n",
      "Category \"Happiness\" refers to 6c8TY7CC4uAKxqpCRH2E which is not present in books collection.\n",
      "Category \"Happiness\" refers to 5VCaFFoai6OezhnXty5r which is not present in books collection.\n",
      "Category \"Happiness\" refers to prKjEH9CNi0QgzK32qCZ which is not present in books collection.\n",
      "Category \"Happiness\" refers to 7dJ7MF9OGEmp5e4PLGW2 which is not present in books collection.\n",
      "Category \"Happiness\" refers to ZovdVPXbLSNskeVjXiPh which is not present in books collection.\n",
      "Category \"Leadership\" refers to 1f506b70-fb6c-4800-ac32-292a2bbed912 which is not present in books collection.\n",
      "Category \"Leadership\" refers to e030f8b2-a716-418b-aeeb-b794fd3fa14e which is not present in books collection.\n",
      "Category \"Leadership\" refers to d9702ebf-7ffb-4739-886f-d54877e448ad which is not present in books collection.\n",
      "Category \"Leadership\" refers to 08d6997c-61b0-4026-bb38-a74e9fdcd552 which is not present in books collection.\n",
      "Category \"Leadership\" refers to jBjZW4tTLT5tYAhmRxgR which is not present in books collection.\n",
      "Category \"Personalities\" refers to a8e0be74-e786-4536-a05e-1aa87fa69ffb which is not present in books collection.\n",
      "Category \"Personalities\" refers to 76bf1ef1-49a2-4e72-af22-f8d1a5274c31 which is not present in books collection.\n",
      "Category \"Personalities\" refers to 155d1f70b0d443559a05 which is not present in books collection.\n",
      "Category \"Personalities\" refers to ec5f7863-5a77-4554-bf86-7d2eac07fc21 which is not present in books collection.\n",
      "Category \"Personalities\" refers to 8762b621-7750-45a0-b806-5b4ef217064a which is not present in books collection.\n",
      "Category \"Personalities\" refers to ade3069f-bc80-438e-be7f-d10590ab58f4 which is not present in books collection.\n",
      "Category \"Personalities\" refers to ea5336df559548369e96 which is not present in books collection.\n",
      "Category \"Business & Career\" refers to 30886fe7-7331-49c1-9676-214f6cfea253 which is not present in books collection.\n",
      "Category \"Business & Career\" refers to cf739c1f-4286-4160-8709-728852ba629d which is not present in books collection.\n",
      "Category \"Business & Career\" refers to 155d1f70b0d443559a05 which is not present in books collection.\n",
      "Category \"Business & Career\" refers to cdf6e746b3cc41b3ba7c which is not present in books collection.\n",
      "Category \"Business & Career\" refers to 7804e305-e381-48ed-90c9-c9088d29d260 which is not present in books collection.\n",
      "Category \"Business & Career\" refers to 0f148583dcfa4f2d9b8c which is not present in books collection.\n",
      "Category \"Business & Career\" refers to 08d6997c-61b0-4026-bb38-a74e9fdcd552 which is not present in books collection.\n",
      "Category \"Business & Career\" refers to jBjZW4tTLT5tYAhmRxgR which is not present in books collection.\n",
      "Category \"Business & Career\" refers to prKjEH9CNi0QgzK32qCZ which is not present in books collection.\n",
      "Category \"Business & Career\" refers to RmyA65mWavu7YvXTtbHV which is not present in books collection.\n",
      "Category \"Business & Career\" refers to KW0l5TDPMIyRUWikgfhO which is not present in books collection.\n",
      "Category \"Business & Career\" refers to 9c97170aaa9a4cb498c5 which is not present in books collection.\n",
      "Category \"Business & Career\" refers to 4b2716b4ad714339a656 which is not present in books collection.\n",
      "Category \"Business & Career\" refers to 4b8ac1df7e8c4feea3ff which is not present in books collection.\n",
      "Category \"Business & Career\" refers to e4556b9217234f1bba9d which is not present in books collection.\n",
      "Category \"Family\" refers to 7ab8d4b4-3e06-41af-bb78-1a56d1b56fa2 which is not present in books collection.\n",
      "Category \"Family\" refers to 15a5aeb27ba142dea373 which is not present in books collection.\n",
      "Category \"Family\" refers to 337064e9-dbbe-4934-977c-1dfc8571ffd6 which is not present in books collection.\n",
      "Category \"Family\" refers to d3e210aa-63b6-467a-a9b1-8026b875f4ef which is not present in books collection.\n",
      "Category \"Family\" refers to 65c1dd30-070d-4e6b-89bb-af253889be26 which is not present in books collection.\n",
      "Category \"Family\" refers to 1kbWpdtF612JBshyS2i4 which is not present in books collection.\n",
      "Category \"Family\" refers to YQMZllUrXwspOQ5UMoF9 which is not present in books collection.\n",
      "Category \"Family\" refers to 3315b8169b8f4be6afa6 which is not present in books collection.\n",
      "Category \"Family\" refers to d7fbef381dd446a7bddb which is not present in books collection.\n",
      "Category \"Family\" refers to 8b5b9c210598423fa569 which is not present in books collection.\n",
      "Category \"Health\" refers to dccfa1fe-bf4e-495a-930e-bbee2aed4cca which is not present in books collection.\n",
      "Category \"Health\" refers to 6168ec58-3357-44e5-8cfa-07e93d815370 which is not present in books collection.\n",
      "Category \"Health\" refers to 0418eb4c-00b0-4700-838c-7e8da582e6db which is not present in books collection.\n",
      "Category \"Health\" refers to 50df6cef94e14ca3bbe0 which is not present in books collection.\n",
      "Category \"Health\" refers to b5c4f1ba-71fa-4461-83da-ebaebf25abb3 which is not present in books collection.\n",
      "Category \"Health\" refers to d3e210aa-63b6-467a-a9b1-8026b875f4ef which is not present in books collection.\n",
      "Category \"Health\" refers to aa58a312-338c-4729-ac35-86293f6e74a6 which is not present in books collection.\n",
      "Category \"Health\" refers to 18601ba3ccb24779b300 which is not present in books collection.\n",
      "Category \"Health\" refers to 3f3268de-837c-4466-a5c0-9ee3b08013ab which is not present in books collection.\n",
      "Category \"Health\" refers to 0e199be9abf145d49d40 which is not present in books collection.\n",
      "Category \"Health\" refers to CVIH3babkNSeviaBsqwj which is not present in books collection.\n",
      "Category \"Health\" refers to bmjsMWZj1NUEpNMxxgbe which is not present in books collection.\n",
      "Category \"Health\" refers to e4fee7ad99764a1cae91 which is not present in books collection.\n",
      "Category \"Health\" refers to ZovdVPXbLSNskeVjXiPh which is not present in books collection.\n",
      "Category \"Society & Tech\" refers to s7a9SdLKnZSlsGI2fjrO which is not present in books collection.\n",
      "Category \"Society & Tech\" refers to d0da17a5-f30f-4213-94a7-9529b155bbdf which is not present in books collection.\n",
      "Category \"Society & Tech\" refers to 0948dbf5f7144719815c which is not present in books collection.\n",
      "Category \"Society & Tech\" refers to 666c5eae-57ea-45ed-b628-0042a4f5e627 which is not present in books collection.\n",
      "Category \"Society & Tech\" refers to 30886fe7-7331-49c1-9676-214f6cfea253 which is not present in books collection.\n",
      "Category \"Society & Tech\" refers to a8e0be74-e786-4536-a05e-1aa87fa69ffb which is not present in books collection.\n",
      "Category \"Society & Tech\" refers to 91de302e-4738-4a4a-8b0b-09942dca2afe which is not present in books collection.\n",
      "Category \"Society & Tech\" refers to ec5f7863-5a77-4554-bf86-7d2eac07fc21 which is not present in books collection.\n",
      "Category \"Society & Tech\" refers to ade3069f-bc80-438e-be7f-d10590ab58f4 which is not present in books collection.\n",
      "Category \"Society & Tech\" refers to GdE3WBtP9ptruxfmZFdu which is not present in books collection.\n",
      "Category \"Society & Tech\" refers to 3958c2e5334c44eca780 which is not present in books collection.\n",
      "Category \"Society & Tech\" refers to ea5336df559548369e96 which is not present in books collection.\n",
      "Category \"Society & Tech\" refers to yFQYwYTp0ArSxh5SbYQ8 which is not present in books collection.\n",
      "Category \"Society & Tech\" refers to nHv7vZblI0yX9RFl5rGZ which is not present in books collection.\n",
      "Category \"Society & Tech\" refers to ufhHMOEqnvOYZUVWeELF which is not present in books collection.\n",
      "Category \"Negotiation\" refers to e030f8b2-a716-418b-aeeb-b794fd3fa14e which is not present in books collection.\n",
      "Category \"Negotiation\" refers to 5a5bda74-ab30-4382-a383-24a4cb2e22d3 which is not present in books collection.\n",
      "Category \"Negotiation\" refers to 7804e305-e381-48ed-90c9-c9088d29d260 which is not present in books collection.\n",
      "Category \"Negotiation\" refers to AIg7TSEBen8v6DyKqgIQ which is not present in books collection.\n",
      "Category \"Negotiation\" refers to DEYF7g7li9jvNFPKVeG2 which is not present in books collection.\n",
      "Category \"Negotiation\" refers to dKheR5SzonKEsRp6kINr which is not present in books collection.\n",
      "Category \"Spirituality\" refers to 7769fe60-9e40-4282-8065-06cb8339c351 which is not present in books collection.\n",
      "Category \"Spirituality\" refers to 1f506b70-fb6c-4800-ac32-292a2bbed912 which is not present in books collection.\n",
      "Category \"Spirituality\" refers to 0948dbf5f7144719815c which is not present in books collection.\n",
      "Category \"Spirituality\" refers to 8e835a32-1333-4b83-b83a-3d0baa787724 which is not present in books collection.\n",
      "Category \"Spirituality\" refers to a23b1189-e1ca-417f-bada-360557a206fe which is not present in books collection.\n",
      "Category \"Spirituality\" refers to 26b33010-29fe-4482-819d-d0954a647384 which is not present in books collection.\n",
      "Category \"Spirituality\" refers to 60f5468e7f1b4ca38e81 which is not present in books collection.\n",
      "Category \"Spirituality\" refers to 93c10166-f79c-4657-8222-555182959111 which is not present in books collection.\n",
      "Category \"Spirituality\" refers to 3958c2e5334c44eca780 which is not present in books collection.\n",
      "Category \"Spirituality\" refers to vFSBskUnWShg24vHY5JP which is not present in books collection.\n",
      "Category \"Productivity\" refers to 142a1116-f4cc-4230-975f-c5f0f7cbefed which is not present in books collection.\n",
      "Category \"Productivity\" refers to 6a64481e-a8a2-45cc-94dd-8bcd79579f59 which is not present in books collection.\n",
      "Category \"Productivity\" refers to e44c409c-441b-4257-b06f-2000c7f4eba7 which is not present in books collection.\n",
      "Category \"Productivity\" refers to s8bjvbn2JNdqw5dBk48W which is not present in books collection.\n",
      "Category \"Productivity\" refers to UZZvkaXWAEUhP2HCxeJC which is not present in books collection.\n",
      "Category \"Productivity\" refers to jCcGEvn2jp2sZc6Kjjpb which is not present in books collection.\n",
      "Category \"Productivity\" refers to xvi4DBKkPJkUCZEFhMve which is not present in books collection.\n",
      "Category \"Productivity\" refers to Aux4AuuTI5Sdg8zZZRxD which is not present in books collection.\n",
      "Category \"Productivity\" refers to cNl1Nnd3EiNkfOwdtfEo which is not present in books collection.\n",
      "Category \"Productivity\" refers to DMNPr88H09xVdx9RF1ov which is not present in books collection.\n",
      "Category \"Productivity\" refers to TBLuNC9vpet2mO6NIPpX which is not present in books collection.\n",
      "Category \"Productivity\" refers to FEWgKK7FTCtPCBqORvGd which is not present in books collection.\n",
      "Category \"Productivity\" refers to 0e0d62a8e16744caa3f8 which is not present in books collection.\n",
      "Category \"Productivity\" refers to d7fbef381dd446a7bddb which is not present in books collection.\n",
      "Category \"Self-Growth\" refers to 1f506b70-fb6c-4800-ac32-292a2bbed912 which is not present in books collection.\n",
      "Category \"Self-Growth\" refers to bace612a-a60c-478a-951d-21a23b0a50d8 which is not present in books collection.\n",
      "Category \"Self-Growth\" refers to 337064e9-dbbe-4934-977c-1dfc8571ffd6 which is not present in books collection.\n",
      "Category \"Self-Growth\" refers to 62b75d69-fbe2-45d3-b88a-d0d3fcc0d2b5 which is not present in books collection.\n",
      "Category \"Self-Growth\" refers to 7776082a-698d-430e-a217-a7e0f7eb7996 which is not present in books collection.\n",
      "Category \"Self-Growth\" refers to aa58a312-338c-4729-ac35-86293f6e74a6 which is not present in books collection.\n",
      "Category \"Self-Growth\" refers to 6a64481e-a8a2-45cc-94dd-8bcd79579f59 which is not present in books collection.\n",
      "Category \"Self-Growth\" refers to 26b33010-29fe-4482-819d-d0954a647384 which is not present in books collection.\n",
      "Category \"Self-Growth\" refers to 87130977-298d-4d4c-a39e-1f51ab4940b0 which is not present in books collection.\n",
      "Category \"Self-Growth\" refers to 60f5468e7f1b4ca38e81 which is not present in books collection.\n",
      "Category \"Self-Growth\" refers to cdf6e746b3cc41b3ba7c which is not present in books collection.\n",
      "Category \"Self-Growth\" refers to f13a38fc88314003a397 which is not present in books collection.\n",
      "Category \"Self-Growth\" refers to 18601ba3ccb24779b300 which is not present in books collection.\n",
      "Category \"Self-Growth\" refers to d9702ebf-7ffb-4739-886f-d54877e448ad which is not present in books collection.\n",
      "Category \"Self-Growth\" refers to 74924881-c9e0-4935-a094-53e79d161ce1 which is not present in books collection.\n",
      "Category \"Self-Growth\" refers to C1BTFPCOf2w1gMkfQ8JO which is not present in books collection.\n",
      "Category \"Self-Growth\" refers to s8bjvbn2JNdqw5dBk48W which is not present in books collection.\n",
      "Category \"Self-Growth\" refers to UZZvkaXWAEUhP2HCxeJC which is not present in books collection.\n",
      "Category \"Self-Growth\" refers to AIg7TSEBen8v6DyKqgIQ which is not present in books collection.\n",
      "Category \"Self-Growth\" refers to YtVqWaaXib0AOBgh1EYZ which is not present in books collection.\n",
      "Category \"Self-Growth\" refers to jCcGEvn2jp2sZc6Kjjpb which is not present in books collection.\n",
      "Category \"Self-Growth\" refers to awh4qefA1ED70YgITMT7 which is not present in books collection.\n",
      "Category \"Self-Growth\" refers to xvi4DBKkPJkUCZEFhMve which is not present in books collection.\n",
      "Category \"Self-Growth\" refers to X7uH31DKh4vS72jR8V4X which is not present in books collection.\n",
      "Category \"Self-Growth\" refers to Q3tEmRHaEYZSLnnqiWc5 which is not present in books collection.\n",
      "Category \"Self-Growth\" refers to zALO9vyMp75KVSo31tMT which is not present in books collection.\n",
      "Category \"Self-Growth\" refers to 0e0d62a8e16744caa3f8 which is not present in books collection.\n",
      "Category \"Self-Growth\" refers to 3315b8169b8f4be6afa6 which is not present in books collection.\n",
      "Category \"Self-Growth\" refers to e0d4997b5acf472ca4ae which is not present in books collection.\n",
      "Category \"Self-Growth\" refers to RmyA65mWavu7YvXTtbHV which is not present in books collection.\n",
      "Category \"Self-Growth\" refers to IucrHAFlbPCowmZ1zyIk which is not present in books collection.\n",
      "Category \"Self-Growth\" refers to e4fee7ad99764a1cae91 which is not present in books collection.\n",
      "Category \"Self-Growth\" refers to stA9g3tZEKn1zYA51GCN which is not present in books collection.\n",
      "Category \"Self-Growth\" refers to 5vHBIHyAtEsv70txU8fQ which is not present in books collection.\n",
      "Category \"Self-Growth\" refers to sp9iHRGR746nfkZEakMW which is not present in books collection.\n",
      "Category \"Money & Investments\" refers to 8bda8517-9f44-4e12-b54f-068e420fc085 which is not present in books collection.\n",
      "Category \"Money & Investments\" refers to af19acc3-1725-429f-810c-ba630967894f which is not present in books collection.\n",
      "Category \"Money & Investments\" refers to e030f8b2-a716-418b-aeeb-b794fd3fa14e which is not present in books collection.\n",
      "Category \"Money & Investments\" refers to 155d1f70b0d443559a05 which is not present in books collection.\n",
      "Category \"Money & Investments\" refers to 55cf063d-e3f3-4a42-b8db-0ade4c8b6fa0 which is not present in books collection.\n",
      "Category \"Money & Investments\" refers to 0f148583dcfa4f2d9b8c which is not present in books collection.\n",
      "Category \"Money & Investments\" refers to AEV5gvcK4f5efi8bkLuw which is not present in books collection.\n",
      "Category \"Money & Investments\" refers to nv5JffuQ8ZXT6DPMZquC which is not present in books collection.\n",
      "Category \"Money & Investments\" refers to s8bjvbn2JNdqw5dBk48W which is not present in books collection.\n",
      "Category \"Money & Investments\" refers to 1jyZlvtT1PIk0QDiJERT which is not present in books collection.\n",
      "Category \"Money & Investments\" refers to FDnSPdvzpWCVosM2X0PA which is not present in books collection.\n",
      "Category \"Money & Investments\" refers to e0d4997b5acf472ca4ae which is not present in books collection.\n",
      "Category \"Money & Investments\" refers to AHBfZlWGWBfOVhNvI03x which is not present in books collection.\n",
      "Category \"Money & Investments\" refers to KW0l5TDPMIyRUWikgfhO which is not present in books collection.\n",
      "Category \"Money & Investments\" refers to 9c97170aaa9a4cb498c5 which is not present in books collection.\n",
      "Category \"Sports & Fitness\" refers to 0948dbf5f7144719815c which is not present in books collection.\n",
      "Category \"Sports & Fitness\" refers to CVIH3babkNSeviaBsqwj which is not present in books collection.\n",
      "Category \"Sports & Fitness\" refers to tXoLX5OuyNyt18CORBzX which is not present in books collection.\n",
      "Category \"Sports & Fitness\" refers to JCAoWn80G5XsxNzswBsl which is not present in books collection.\n",
      "Category \"Sports & Fitness\" refers to 3b67c8104946443fae2c which is not present in books collection.\n",
      "Category \"Love & Sex\" refers to 15a5aeb27ba142dea373 which is not present in books collection.\n",
      "Category \"Love & Sex\" refers to 2a03195c-3dc4-4c7f-82e3-2dca4cb7b0d4 which is not present in books collection.\n",
      "Category \"Love & Sex\" refers to 2c7a1ff5-9e2f-4ffd-8ef4-34f225729c24 which is not present in books collection.\n",
      "Category \"Love & Sex\" refers to 5b28ba5e-f357-4675-b285-1f1c6e2075e7 which is not present in books collection.\n",
      "Category \"Love & Sex\" refers to f13a38fc88314003a397 which is not present in books collection.\n",
      "Category \"Love & Sex\" refers to XFATE5qVur0c4AotuDmJ which is not present in books collection.\n",
      "Category \"Love & Sex\" refers to 5bee2af3fe91479bbedb which is not present in books collection.\n",
      "Category \"Love & Sex\" refers to CVIH3babkNSeviaBsqwj which is not present in books collection.\n",
      "Category \"Love & Sex\" refers to 1kbWpdtF612JBshyS2i4 which is not present in books collection.\n",
      "Category \"Love & Sex\" refers to YQMZllUrXwspOQ5UMoF9 which is not present in books collection.\n",
      "Category \"Love & Sex\" refers to uflFgWLLFauNRomW5h6S which is not present in books collection.\n",
      "Category \"Love & Sex\" refers to e0d4997b5acf472ca4ae which is not present in books collection.\n",
      "Category \"Love & Sex\" refers to d7d348673f634607b0f5 which is not present in books collection.\n"
     ]
    }
   ],
   "source": [
    "set_book_categories(books)"
   ]
  },
  {
   "cell_type": "markdown",
   "metadata": {},
   "source": [
    "## Export books"
   ]
  },
  {
   "cell_type": "code",
   "execution_count": 9,
   "metadata": {},
   "outputs": [],
   "source": [
    "import pandas as pd"
   ]
  },
  {
   "cell_type": "code",
   "execution_count": 12,
   "metadata": {},
   "outputs": [],
   "source": [
    "df_books = pd.DataFrame([b.to_dict() for b in books])\n",
    "df_books['categories'] = df_books['categories'].apply(lambda l: '|'.join(l))\n",
    "del df_books['learning_items']"
   ]
  },
  {
   "cell_type": "code",
   "execution_count": 13,
   "metadata": {},
   "outputs": [
    {
     "data": {
      "text/html": [
       "<div>\n",
       "<style scoped>\n",
       "    .dataframe tbody tr th:only-of-type {\n",
       "        vertical-align: middle;\n",
       "    }\n",
       "\n",
       "    .dataframe tbody tr th {\n",
       "        vertical-align: top;\n",
       "    }\n",
       "\n",
       "    .dataframe thead th {\n",
       "        text-align: right;\n",
       "    }\n",
       "</style>\n",
       "<table border=\"1\" class=\"dataframe\">\n",
       "  <thead>\n",
       "    <tr style=\"text-align: right;\">\n",
       "      <th></th>\n",
       "      <th>firebase_document_path</th>\n",
       "      <th>id</th>\n",
       "      <th>title</th>\n",
       "      <th>author</th>\n",
       "      <th>overview</th>\n",
       "      <th>author_overview</th>\n",
       "      <th>categories</th>\n",
       "    </tr>\n",
       "  </thead>\n",
       "  <tbody>\n",
       "    <tr>\n",
       "      <th>0</th>\n",
       "      <td>books/0059543c-a8e5-4615-a78c-69f8e73c19c1</td>\n",
       "      <td>0059543c-a8e5-4615-a78c-69f8e73c19c1</td>\n",
       "      <td>Parenting the New Teen in the Age of Anxiety: ...</td>\n",
       "      <td>John Duffy</td>\n",
       "      <td>You're looking at a modern parenting guide. Te...</td>\n",
       "      <td>John Duffy is a successful clinical psychologi...</td>\n",
       "      <td>Family</td>\n",
       "    </tr>\n",
       "    <tr>\n",
       "      <th>1</th>\n",
       "      <td>books/00bb4531-5150-44af-9eb1-c160c7d26ed6</td>\n",
       "      <td>00bb4531-5150-44af-9eb1-c160c7d26ed6</td>\n",
       "      <td>Right Thing, Right Now: Good Values, Good Char...</td>\n",
       "      <td>Ryan Holiday</td>\n",
       "      <td>The modern world has many fascinating inventio...</td>\n",
       "      <td>Ryan Holiday is known for bringing philosophy ...</td>\n",
       "      <td>Self-Growth</td>\n",
       "    </tr>\n",
       "    <tr>\n",
       "      <th>2</th>\n",
       "      <td>books/012399fc36f74c489e4e</td>\n",
       "      <td>012399fc36f74c489e4e</td>\n",
       "      <td>Eat Move Sleep: How Small Choices Lead to Big ...</td>\n",
       "      <td>Tom Rath</td>\n",
       "      <td>Discover how inner strength, willpower, and ri...</td>\n",
       "      <td>Tom Rath is a renowned author of best-selling ...</td>\n",
       "      <td>Health</td>\n",
       "    </tr>\n",
       "    <tr>\n",
       "      <th>3</th>\n",
       "      <td>books/012d6fde-51e2-4289-822a-1cbb57394bcd</td>\n",
       "      <td>012d6fde-51e2-4289-822a-1cbb57394bcd</td>\n",
       "      <td>From Strength to Strength: Finding Success, Ha...</td>\n",
       "      <td>Arthur C. Brooks</td>\n",
       "      <td>Achieving your dreams is fulfilling, but what ...</td>\n",
       "      <td>Arthur C. Brooks is a scientist whose research...</td>\n",
       "      <td>Happiness|Self-Growth</td>\n",
       "    </tr>\n",
       "    <tr>\n",
       "      <th>4</th>\n",
       "      <td>books/017dab0f35d34af59653</td>\n",
       "      <td>017dab0f35d34af59653</td>\n",
       "      <td>Dream Big: Know What You Want, Why You Want It...</td>\n",
       "      <td>Bob Goff</td>\n",
       "      <td>Break free from the cycle of unfinished projec...</td>\n",
       "      <td>Robert Kendall Goff is a speaker, lawyer, auth...</td>\n",
       "      <td>Self-Growth</td>\n",
       "    </tr>\n",
       "  </tbody>\n",
       "</table>\n",
       "</div>"
      ],
      "text/plain": [
       "                       firebase_document_path  \\\n",
       "0  books/0059543c-a8e5-4615-a78c-69f8e73c19c1   \n",
       "1  books/00bb4531-5150-44af-9eb1-c160c7d26ed6   \n",
       "2                  books/012399fc36f74c489e4e   \n",
       "3  books/012d6fde-51e2-4289-822a-1cbb57394bcd   \n",
       "4                  books/017dab0f35d34af59653   \n",
       "\n",
       "                                     id  \\\n",
       "0  0059543c-a8e5-4615-a78c-69f8e73c19c1   \n",
       "1  00bb4531-5150-44af-9eb1-c160c7d26ed6   \n",
       "2                  012399fc36f74c489e4e   \n",
       "3  012d6fde-51e2-4289-822a-1cbb57394bcd   \n",
       "4                  017dab0f35d34af59653   \n",
       "\n",
       "                                               title            author  \\\n",
       "0  Parenting the New Teen in the Age of Anxiety: ...        John Duffy   \n",
       "1  Right Thing, Right Now: Good Values, Good Char...      Ryan Holiday   \n",
       "2  Eat Move Sleep: How Small Choices Lead to Big ...          Tom Rath   \n",
       "3  From Strength to Strength: Finding Success, Ha...  Arthur C. Brooks   \n",
       "4  Dream Big: Know What You Want, Why You Want It...          Bob Goff   \n",
       "\n",
       "                                            overview  \\\n",
       "0  You're looking at a modern parenting guide. Te...   \n",
       "1  The modern world has many fascinating inventio...   \n",
       "2  Discover how inner strength, willpower, and ri...   \n",
       "3  Achieving your dreams is fulfilling, but what ...   \n",
       "4  Break free from the cycle of unfinished projec...   \n",
       "\n",
       "                                     author_overview             categories  \n",
       "0  John Duffy is a successful clinical psychologi...                 Family  \n",
       "1  Ryan Holiday is known for bringing philosophy ...            Self-Growth  \n",
       "2  Tom Rath is a renowned author of best-selling ...                 Health  \n",
       "3  Arthur C. Brooks is a scientist whose research...  Happiness|Self-Growth  \n",
       "4  Robert Kendall Goff is a speaker, lawyer, auth...            Self-Growth  "
      ]
     },
     "execution_count": 13,
     "metadata": {},
     "output_type": "execute_result"
    }
   ],
   "source": [
    "df_books.head()"
   ]
  },
  {
   "cell_type": "code",
   "execution_count": 14,
   "metadata": {},
   "outputs": [
    {
     "data": {
      "text/html": [
       "<div>\n",
       "<style scoped>\n",
       "    .dataframe tbody tr th:only-of-type {\n",
       "        vertical-align: middle;\n",
       "    }\n",
       "\n",
       "    .dataframe tbody tr th {\n",
       "        vertical-align: top;\n",
       "    }\n",
       "\n",
       "    .dataframe thead th {\n",
       "        text-align: right;\n",
       "    }\n",
       "</style>\n",
       "<table border=\"1\" class=\"dataframe\">\n",
       "  <thead>\n",
       "    <tr style=\"text-align: right;\">\n",
       "      <th></th>\n",
       "      <th>firebase_document_path</th>\n",
       "      <th>id</th>\n",
       "      <th>title</th>\n",
       "      <th>author</th>\n",
       "      <th>overview</th>\n",
       "      <th>author_overview</th>\n",
       "      <th>categories</th>\n",
       "    </tr>\n",
       "  </thead>\n",
       "  <tbody>\n",
       "    <tr>\n",
       "      <th>0</th>\n",
       "      <td>books/0059543c-a8e5-4615-a78c-69f8e73c19c1</td>\n",
       "      <td>0059543c-a8e5-4615-a78c-69f8e73c19c1</td>\n",
       "      <td>Parenting the New Teen in the Age of Anxiety: ...</td>\n",
       "      <td>John Duffy</td>\n",
       "      <td>You're looking at a modern parenting guide. Te...</td>\n",
       "      <td>John Duffy is a successful clinical psychologi...</td>\n",
       "      <td>Family</td>\n",
       "    </tr>\n",
       "    <tr>\n",
       "      <th>1</th>\n",
       "      <td>books/00bb4531-5150-44af-9eb1-c160c7d26ed6</td>\n",
       "      <td>00bb4531-5150-44af-9eb1-c160c7d26ed6</td>\n",
       "      <td>Right Thing, Right Now: Good Values, Good Char...</td>\n",
       "      <td>Ryan Holiday</td>\n",
       "      <td>The modern world has many fascinating inventio...</td>\n",
       "      <td>Ryan Holiday is known for bringing philosophy ...</td>\n",
       "      <td>Self-Growth</td>\n",
       "    </tr>\n",
       "    <tr>\n",
       "      <th>2</th>\n",
       "      <td>books/012399fc36f74c489e4e</td>\n",
       "      <td>012399fc36f74c489e4e</td>\n",
       "      <td>Eat Move Sleep: How Small Choices Lead to Big ...</td>\n",
       "      <td>Tom Rath</td>\n",
       "      <td>Discover how inner strength, willpower, and ri...</td>\n",
       "      <td>Tom Rath is a renowned author of best-selling ...</td>\n",
       "      <td>Health</td>\n",
       "    </tr>\n",
       "    <tr>\n",
       "      <th>3</th>\n",
       "      <td>books/012d6fde-51e2-4289-822a-1cbb57394bcd</td>\n",
       "      <td>012d6fde-51e2-4289-822a-1cbb57394bcd</td>\n",
       "      <td>From Strength to Strength: Finding Success, Ha...</td>\n",
       "      <td>Arthur C. Brooks</td>\n",
       "      <td>Achieving your dreams is fulfilling, but what ...</td>\n",
       "      <td>Arthur C. Brooks is a scientist whose research...</td>\n",
       "      <td>Happiness|Self-Growth</td>\n",
       "    </tr>\n",
       "    <tr>\n",
       "      <th>4</th>\n",
       "      <td>books/017dab0f35d34af59653</td>\n",
       "      <td>017dab0f35d34af59653</td>\n",
       "      <td>Dream Big: Know What You Want, Why You Want It...</td>\n",
       "      <td>Bob Goff</td>\n",
       "      <td>Break free from the cycle of unfinished projec...</td>\n",
       "      <td>Robert Kendall Goff is a speaker, lawyer, auth...</td>\n",
       "      <td>Self-Growth</td>\n",
       "    </tr>\n",
       "  </tbody>\n",
       "</table>\n",
       "</div>"
      ],
      "text/plain": [
       "                       firebase_document_path  \\\n",
       "0  books/0059543c-a8e5-4615-a78c-69f8e73c19c1   \n",
       "1  books/00bb4531-5150-44af-9eb1-c160c7d26ed6   \n",
       "2                  books/012399fc36f74c489e4e   \n",
       "3  books/012d6fde-51e2-4289-822a-1cbb57394bcd   \n",
       "4                  books/017dab0f35d34af59653   \n",
       "\n",
       "                                     id  \\\n",
       "0  0059543c-a8e5-4615-a78c-69f8e73c19c1   \n",
       "1  00bb4531-5150-44af-9eb1-c160c7d26ed6   \n",
       "2                  012399fc36f74c489e4e   \n",
       "3  012d6fde-51e2-4289-822a-1cbb57394bcd   \n",
       "4                  017dab0f35d34af59653   \n",
       "\n",
       "                                               title            author  \\\n",
       "0  Parenting the New Teen in the Age of Anxiety: ...        John Duffy   \n",
       "1  Right Thing, Right Now: Good Values, Good Char...      Ryan Holiday   \n",
       "2  Eat Move Sleep: How Small Choices Lead to Big ...          Tom Rath   \n",
       "3  From Strength to Strength: Finding Success, Ha...  Arthur C. Brooks   \n",
       "4  Dream Big: Know What You Want, Why You Want It...          Bob Goff   \n",
       "\n",
       "                                            overview  \\\n",
       "0  You're looking at a modern parenting guide. Te...   \n",
       "1  The modern world has many fascinating inventio...   \n",
       "2  Discover how inner strength, willpower, and ri...   \n",
       "3  Achieving your dreams is fulfilling, but what ...   \n",
       "4  Break free from the cycle of unfinished projec...   \n",
       "\n",
       "                                     author_overview             categories  \n",
       "0  John Duffy is a successful clinical psychologi...                 Family  \n",
       "1  Ryan Holiday is known for bringing philosophy ...            Self-Growth  \n",
       "2  Tom Rath is a renowned author of best-selling ...                 Health  \n",
       "3  Arthur C. Brooks is a scientist whose research...  Happiness|Self-Growth  \n",
       "4  Robert Kendall Goff is a speaker, lawyer, auth...            Self-Growth  "
      ]
     },
     "execution_count": 14,
     "metadata": {},
     "output_type": "execute_result"
    }
   ],
   "source": [
    "p_csv_dest = Path('data/v0.1.0.books.csv')\n",
    "df_books.to_csv(p_csv_dest)\n",
    "\n",
    "# read dataframe to ensure it being valid\n",
    "pd.read_csv(p_csv_dest, index_col=0).head()"
   ]
  },
  {
   "cell_type": "code",
   "execution_count": null,
   "metadata": {},
   "outputs": [],
   "source": []
  },
  {
   "cell_type": "code",
   "execution_count": null,
   "metadata": {},
   "outputs": [],
   "source": []
  },
  {
   "cell_type": "code",
   "execution_count": null,
   "metadata": {},
   "outputs": [],
   "source": []
  },
  {
   "cell_type": "code",
   "execution_count": null,
   "metadata": {},
   "outputs": [],
   "source": []
  }
 ],
 "metadata": {
  "kernelspec": {
   "display_name": "hw-categories",
   "language": "python",
   "name": "python3"
  },
  "language_info": {
   "codemirror_mode": {
    "name": "ipython",
    "version": 3
   },
   "file_extension": ".py",
   "mimetype": "text/x-python",
   "name": "python",
   "nbconvert_exporter": "python",
   "pygments_lexer": "ipython3",
   "version": "3.10.16"
  }
 },
 "nbformat": 4,
 "nbformat_minor": 2
}
